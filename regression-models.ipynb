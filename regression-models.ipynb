{
 "cells": [
  {
   "cell_type": "markdown",
   "id": "538909d9",
   "metadata": {
    "papermill": {
     "duration": 0.028064,
     "end_time": "2022-02-27T23:48:51.577110",
     "exception": false,
     "start_time": "2022-02-27T23:48:51.549046",
     "status": "completed"
    },
    "tags": []
   },
   "source": [
    "# **Regression Models (Simple Linear-Multiple)**"
   ]
  },
  {
   "cell_type": "markdown",
   "id": "f3226d4e",
   "metadata": {
    "papermill": {
     "duration": 0.025748,
     "end_time": "2022-02-27T23:48:51.629767",
     "exception": false,
     "start_time": "2022-02-27T23:48:51.604019",
     "status": "completed"
    },
    "tags": []
   },
   "source": [
    "# Simple Linear Regression"
   ]
  },
  {
   "cell_type": "markdown",
   "id": "0c677047",
   "metadata": {
    "papermill": {
     "duration": 0.025682,
     "end_time": "2022-02-27T23:48:51.681518",
     "exception": false,
     "start_time": "2022-02-27T23:48:51.655836",
     "status": "completed"
    },
    "tags": []
   },
   "source": [
    "**Carbon Dioxide Emissions**:\n",
    "\n",
    "Using Simple Regression Model to predict the co2 emission of a car based on its engine size for trial 1 and fuel consumption for trail 2 "
   ]
  },
  {
   "cell_type": "code",
   "execution_count": 1,
   "id": "b5581537",
   "metadata": {
    "_cell_guid": "b1076dfc-b9ad-4769-8c92-a6c4dae69d19",
    "_uuid": "8f2839f25d086af736a60e9eeb907d3b93b6e0e5",
    "execution": {
     "iopub.execute_input": "2022-02-27T23:48:51.737889Z",
     "iopub.status.busy": "2022-02-27T23:48:51.736739Z",
     "iopub.status.idle": "2022-02-27T23:48:52.832368Z",
     "shell.execute_reply": "2022-02-27T23:48:52.831587Z",
     "shell.execute_reply.started": "2022-02-27T23:43:47.475697Z"
    },
    "papermill": {
     "duration": 1.124889,
     "end_time": "2022-02-27T23:48:52.832541",
     "exception": false,
     "start_time": "2022-02-27T23:48:51.707652",
     "status": "completed"
    },
    "tags": []
   },
   "outputs": [],
   "source": [
    "import matplotlib.pyplot as plt\n",
    "import pandas as pd\n",
    "import pylab as pl\n",
    "import numpy as np\n",
    "import seaborn as sns\n",
    "%matplotlib inline"
   ]
  },
  {
   "cell_type": "code",
   "execution_count": 2,
   "id": "126d6304",
   "metadata": {
    "execution": {
     "iopub.execute_input": "2022-02-27T23:48:52.893622Z",
     "iopub.status.busy": "2022-02-27T23:48:52.892677Z",
     "iopub.status.idle": "2022-02-27T23:48:56.047915Z",
     "shell.execute_reply": "2022-02-27T23:48:56.047135Z",
     "shell.execute_reply.started": "2022-02-27T23:43:47.485230Z"
    },
    "papermill": {
     "duration": 3.189106,
     "end_time": "2022-02-27T23:48:56.048101",
     "exception": false,
     "start_time": "2022-02-27T23:48:52.858995",
     "status": "completed"
    },
    "tags": []
   },
   "outputs": [
    {
     "name": "stdout",
     "output_type": "stream",
     "text": [
      "--2022-02-27 23:48:53--  https://cf-courses-data.s3.us.cloud-object-storage.appdomain.cloud/IBMDeveloperSkillsNetwork-ML0101EN-SkillsNetwork/labs/Module%202/data/FuelConsumptionCo2.csv\r\n",
      "Resolving cf-courses-data.s3.us.cloud-object-storage.appdomain.cloud (cf-courses-data.s3.us.cloud-object-storage.appdomain.cloud)... 169.63.118.104\r\n",
      "Connecting to cf-courses-data.s3.us.cloud-object-storage.appdomain.cloud (cf-courses-data.s3.us.cloud-object-storage.appdomain.cloud)|169.63.118.104|:443... connected.\r\n",
      "HTTP request sent, awaiting response... 200 OK\r\n",
      "Length: 72629 (71K) [text/csv]\r\n",
      "Saving to: ‘FuelConsumption.csv’\r\n",
      "\r\n",
      "FuelConsumption.csv 100%[===================>]  70.93K  70.5KB/s    in 1.0s    \r\n",
      "\r\n",
      "2022-02-27 23:48:55 (70.5 KB/s) - ‘FuelConsumption.csv’ saved [72629/72629]\r\n",
      "\r\n"
     ]
    }
   ],
   "source": [
    "!wget -O FuelConsumption.csv https://cf-courses-data.s3.us.cloud-object-storage.appdomain.cloud/IBMDeveloperSkillsNetwork-ML0101EN-SkillsNetwork/labs/Module%202/data/FuelConsumptionCo2.csv"
   ]
  },
  {
   "cell_type": "code",
   "execution_count": 3,
   "id": "74aa138f",
   "metadata": {
    "execution": {
     "iopub.execute_input": "2022-02-27T23:48:56.118943Z",
     "iopub.status.busy": "2022-02-27T23:48:56.118225Z",
     "iopub.status.idle": "2022-02-27T23:48:56.150619Z",
     "shell.execute_reply": "2022-02-27T23:48:56.151121Z",
     "shell.execute_reply.started": "2022-02-27T23:43:48.920012Z"
    },
    "papermill": {
     "duration": 0.072174,
     "end_time": "2022-02-27T23:48:56.151301",
     "exception": false,
     "start_time": "2022-02-27T23:48:56.079127",
     "status": "completed"
    },
    "tags": []
   },
   "outputs": [
    {
     "data": {
      "text/html": [
       "<div>\n",
       "<style scoped>\n",
       "    .dataframe tbody tr th:only-of-type {\n",
       "        vertical-align: middle;\n",
       "    }\n",
       "\n",
       "    .dataframe tbody tr th {\n",
       "        vertical-align: top;\n",
       "    }\n",
       "\n",
       "    .dataframe thead th {\n",
       "        text-align: right;\n",
       "    }\n",
       "</style>\n",
       "<table border=\"1\" class=\"dataframe\">\n",
       "  <thead>\n",
       "    <tr style=\"text-align: right;\">\n",
       "      <th></th>\n",
       "      <th>MODELYEAR</th>\n",
       "      <th>MAKE</th>\n",
       "      <th>MODEL</th>\n",
       "      <th>VEHICLECLASS</th>\n",
       "      <th>ENGINESIZE</th>\n",
       "      <th>CYLINDERS</th>\n",
       "      <th>TRANSMISSION</th>\n",
       "      <th>FUELTYPE</th>\n",
       "      <th>FUELCONSUMPTION_CITY</th>\n",
       "      <th>FUELCONSUMPTION_HWY</th>\n",
       "      <th>FUELCONSUMPTION_COMB</th>\n",
       "      <th>FUELCONSUMPTION_COMB_MPG</th>\n",
       "      <th>CO2EMISSIONS</th>\n",
       "    </tr>\n",
       "  </thead>\n",
       "  <tbody>\n",
       "    <tr>\n",
       "      <th>0</th>\n",
       "      <td>2014</td>\n",
       "      <td>ACURA</td>\n",
       "      <td>ILX</td>\n",
       "      <td>COMPACT</td>\n",
       "      <td>2.0</td>\n",
       "      <td>4</td>\n",
       "      <td>AS5</td>\n",
       "      <td>Z</td>\n",
       "      <td>9.9</td>\n",
       "      <td>6.7</td>\n",
       "      <td>8.5</td>\n",
       "      <td>33</td>\n",
       "      <td>196</td>\n",
       "    </tr>\n",
       "    <tr>\n",
       "      <th>1</th>\n",
       "      <td>2014</td>\n",
       "      <td>ACURA</td>\n",
       "      <td>ILX</td>\n",
       "      <td>COMPACT</td>\n",
       "      <td>2.4</td>\n",
       "      <td>4</td>\n",
       "      <td>M6</td>\n",
       "      <td>Z</td>\n",
       "      <td>11.2</td>\n",
       "      <td>7.7</td>\n",
       "      <td>9.6</td>\n",
       "      <td>29</td>\n",
       "      <td>221</td>\n",
       "    </tr>\n",
       "    <tr>\n",
       "      <th>2</th>\n",
       "      <td>2014</td>\n",
       "      <td>ACURA</td>\n",
       "      <td>ILX HYBRID</td>\n",
       "      <td>COMPACT</td>\n",
       "      <td>1.5</td>\n",
       "      <td>4</td>\n",
       "      <td>AV7</td>\n",
       "      <td>Z</td>\n",
       "      <td>6.0</td>\n",
       "      <td>5.8</td>\n",
       "      <td>5.9</td>\n",
       "      <td>48</td>\n",
       "      <td>136</td>\n",
       "    </tr>\n",
       "    <tr>\n",
       "      <th>3</th>\n",
       "      <td>2014</td>\n",
       "      <td>ACURA</td>\n",
       "      <td>MDX 4WD</td>\n",
       "      <td>SUV - SMALL</td>\n",
       "      <td>3.5</td>\n",
       "      <td>6</td>\n",
       "      <td>AS6</td>\n",
       "      <td>Z</td>\n",
       "      <td>12.7</td>\n",
       "      <td>9.1</td>\n",
       "      <td>11.1</td>\n",
       "      <td>25</td>\n",
       "      <td>255</td>\n",
       "    </tr>\n",
       "    <tr>\n",
       "      <th>4</th>\n",
       "      <td>2014</td>\n",
       "      <td>ACURA</td>\n",
       "      <td>RDX AWD</td>\n",
       "      <td>SUV - SMALL</td>\n",
       "      <td>3.5</td>\n",
       "      <td>6</td>\n",
       "      <td>AS6</td>\n",
       "      <td>Z</td>\n",
       "      <td>12.1</td>\n",
       "      <td>8.7</td>\n",
       "      <td>10.6</td>\n",
       "      <td>27</td>\n",
       "      <td>244</td>\n",
       "    </tr>\n",
       "  </tbody>\n",
       "</table>\n",
       "</div>"
      ],
      "text/plain": [
       "   MODELYEAR   MAKE       MODEL VEHICLECLASS  ENGINESIZE  CYLINDERS  \\\n",
       "0       2014  ACURA         ILX      COMPACT         2.0          4   \n",
       "1       2014  ACURA         ILX      COMPACT         2.4          4   \n",
       "2       2014  ACURA  ILX HYBRID      COMPACT         1.5          4   \n",
       "3       2014  ACURA     MDX 4WD  SUV - SMALL         3.5          6   \n",
       "4       2014  ACURA     RDX AWD  SUV - SMALL         3.5          6   \n",
       "\n",
       "  TRANSMISSION FUELTYPE  FUELCONSUMPTION_CITY  FUELCONSUMPTION_HWY  \\\n",
       "0          AS5        Z                   9.9                  6.7   \n",
       "1           M6        Z                  11.2                  7.7   \n",
       "2          AV7        Z                   6.0                  5.8   \n",
       "3          AS6        Z                  12.7                  9.1   \n",
       "4          AS6        Z                  12.1                  8.7   \n",
       "\n",
       "   FUELCONSUMPTION_COMB  FUELCONSUMPTION_COMB_MPG  CO2EMISSIONS  \n",
       "0                   8.5                        33           196  \n",
       "1                   9.6                        29           221  \n",
       "2                   5.9                        48           136  \n",
       "3                  11.1                        25           255  \n",
       "4                  10.6                        27           244  "
      ]
     },
     "execution_count": 3,
     "metadata": {},
     "output_type": "execute_result"
    }
   ],
   "source": [
    "df = pd.read_csv(\"FuelConsumption.csv\")\n",
    "\n",
    "df.head()"
   ]
  },
  {
   "cell_type": "code",
   "execution_count": 4,
   "id": "9c65da5d",
   "metadata": {
    "execution": {
     "iopub.execute_input": "2022-02-27T23:48:56.215758Z",
     "iopub.status.busy": "2022-02-27T23:48:56.215018Z",
     "iopub.status.idle": "2022-02-27T23:48:56.258647Z",
     "shell.execute_reply": "2022-02-27T23:48:56.258005Z",
     "shell.execute_reply.started": "2022-02-27T23:43:48.949218Z"
    },
    "papermill": {
     "duration": 0.077127,
     "end_time": "2022-02-27T23:48:56.258791",
     "exception": false,
     "start_time": "2022-02-27T23:48:56.181664",
     "status": "completed"
    },
    "tags": []
   },
   "outputs": [
    {
     "data": {
      "text/html": [
       "<div>\n",
       "<style scoped>\n",
       "    .dataframe tbody tr th:only-of-type {\n",
       "        vertical-align: middle;\n",
       "    }\n",
       "\n",
       "    .dataframe tbody tr th {\n",
       "        vertical-align: top;\n",
       "    }\n",
       "\n",
       "    .dataframe thead th {\n",
       "        text-align: right;\n",
       "    }\n",
       "</style>\n",
       "<table border=\"1\" class=\"dataframe\">\n",
       "  <thead>\n",
       "    <tr style=\"text-align: right;\">\n",
       "      <th></th>\n",
       "      <th>MODELYEAR</th>\n",
       "      <th>ENGINESIZE</th>\n",
       "      <th>CYLINDERS</th>\n",
       "      <th>FUELCONSUMPTION_CITY</th>\n",
       "      <th>FUELCONSUMPTION_HWY</th>\n",
       "      <th>FUELCONSUMPTION_COMB</th>\n",
       "      <th>FUELCONSUMPTION_COMB_MPG</th>\n",
       "      <th>CO2EMISSIONS</th>\n",
       "    </tr>\n",
       "  </thead>\n",
       "  <tbody>\n",
       "    <tr>\n",
       "      <th>count</th>\n",
       "      <td>1067.0</td>\n",
       "      <td>1067.000000</td>\n",
       "      <td>1067.000000</td>\n",
       "      <td>1067.000000</td>\n",
       "      <td>1067.000000</td>\n",
       "      <td>1067.000000</td>\n",
       "      <td>1067.000000</td>\n",
       "      <td>1067.000000</td>\n",
       "    </tr>\n",
       "    <tr>\n",
       "      <th>mean</th>\n",
       "      <td>2014.0</td>\n",
       "      <td>3.346298</td>\n",
       "      <td>5.794752</td>\n",
       "      <td>13.296532</td>\n",
       "      <td>9.474602</td>\n",
       "      <td>11.580881</td>\n",
       "      <td>26.441425</td>\n",
       "      <td>256.228679</td>\n",
       "    </tr>\n",
       "    <tr>\n",
       "      <th>std</th>\n",
       "      <td>0.0</td>\n",
       "      <td>1.415895</td>\n",
       "      <td>1.797447</td>\n",
       "      <td>4.101253</td>\n",
       "      <td>2.794510</td>\n",
       "      <td>3.485595</td>\n",
       "      <td>7.468702</td>\n",
       "      <td>63.372304</td>\n",
       "    </tr>\n",
       "    <tr>\n",
       "      <th>min</th>\n",
       "      <td>2014.0</td>\n",
       "      <td>1.000000</td>\n",
       "      <td>3.000000</td>\n",
       "      <td>4.600000</td>\n",
       "      <td>4.900000</td>\n",
       "      <td>4.700000</td>\n",
       "      <td>11.000000</td>\n",
       "      <td>108.000000</td>\n",
       "    </tr>\n",
       "    <tr>\n",
       "      <th>25%</th>\n",
       "      <td>2014.0</td>\n",
       "      <td>2.000000</td>\n",
       "      <td>4.000000</td>\n",
       "      <td>10.250000</td>\n",
       "      <td>7.500000</td>\n",
       "      <td>9.000000</td>\n",
       "      <td>21.000000</td>\n",
       "      <td>207.000000</td>\n",
       "    </tr>\n",
       "    <tr>\n",
       "      <th>50%</th>\n",
       "      <td>2014.0</td>\n",
       "      <td>3.400000</td>\n",
       "      <td>6.000000</td>\n",
       "      <td>12.600000</td>\n",
       "      <td>8.800000</td>\n",
       "      <td>10.900000</td>\n",
       "      <td>26.000000</td>\n",
       "      <td>251.000000</td>\n",
       "    </tr>\n",
       "    <tr>\n",
       "      <th>75%</th>\n",
       "      <td>2014.0</td>\n",
       "      <td>4.300000</td>\n",
       "      <td>8.000000</td>\n",
       "      <td>15.550000</td>\n",
       "      <td>10.850000</td>\n",
       "      <td>13.350000</td>\n",
       "      <td>31.000000</td>\n",
       "      <td>294.000000</td>\n",
       "    </tr>\n",
       "    <tr>\n",
       "      <th>max</th>\n",
       "      <td>2014.0</td>\n",
       "      <td>8.400000</td>\n",
       "      <td>12.000000</td>\n",
       "      <td>30.200000</td>\n",
       "      <td>20.500000</td>\n",
       "      <td>25.800000</td>\n",
       "      <td>60.000000</td>\n",
       "      <td>488.000000</td>\n",
       "    </tr>\n",
       "  </tbody>\n",
       "</table>\n",
       "</div>"
      ],
      "text/plain": [
       "       MODELYEAR   ENGINESIZE    CYLINDERS  FUELCONSUMPTION_CITY  \\\n",
       "count     1067.0  1067.000000  1067.000000           1067.000000   \n",
       "mean      2014.0     3.346298     5.794752             13.296532   \n",
       "std          0.0     1.415895     1.797447              4.101253   \n",
       "min       2014.0     1.000000     3.000000              4.600000   \n",
       "25%       2014.0     2.000000     4.000000             10.250000   \n",
       "50%       2014.0     3.400000     6.000000             12.600000   \n",
       "75%       2014.0     4.300000     8.000000             15.550000   \n",
       "max       2014.0     8.400000    12.000000             30.200000   \n",
       "\n",
       "       FUELCONSUMPTION_HWY  FUELCONSUMPTION_COMB  FUELCONSUMPTION_COMB_MPG  \\\n",
       "count          1067.000000           1067.000000               1067.000000   \n",
       "mean              9.474602             11.580881                 26.441425   \n",
       "std               2.794510              3.485595                  7.468702   \n",
       "min               4.900000              4.700000                 11.000000   \n",
       "25%               7.500000              9.000000                 21.000000   \n",
       "50%               8.800000             10.900000                 26.000000   \n",
       "75%              10.850000             13.350000                 31.000000   \n",
       "max              20.500000             25.800000                 60.000000   \n",
       "\n",
       "       CO2EMISSIONS  \n",
       "count   1067.000000  \n",
       "mean     256.228679  \n",
       "std       63.372304  \n",
       "min      108.000000  \n",
       "25%      207.000000  \n",
       "50%      251.000000  \n",
       "75%      294.000000  \n",
       "max      488.000000  "
      ]
     },
     "execution_count": 4,
     "metadata": {},
     "output_type": "execute_result"
    }
   ],
   "source": [
    "df.describe()"
   ]
  },
  {
   "cell_type": "code",
   "execution_count": 5,
   "id": "0de14638",
   "metadata": {
    "execution": {
     "iopub.execute_input": "2022-02-27T23:48:56.333938Z",
     "iopub.status.busy": "2022-02-27T23:48:56.333237Z",
     "iopub.status.idle": "2022-02-27T23:48:56.338870Z",
     "shell.execute_reply": "2022-02-27T23:48:56.338256Z",
     "shell.execute_reply.started": "2022-02-27T23:43:48.988792Z"
    },
    "papermill": {
     "duration": 0.048836,
     "end_time": "2022-02-27T23:48:56.339012",
     "exception": false,
     "start_time": "2022-02-27T23:48:56.290176",
     "status": "completed"
    },
    "tags": []
   },
   "outputs": [
    {
     "data": {
      "text/html": [
       "<div>\n",
       "<style scoped>\n",
       "    .dataframe tbody tr th:only-of-type {\n",
       "        vertical-align: middle;\n",
       "    }\n",
       "\n",
       "    .dataframe tbody tr th {\n",
       "        vertical-align: top;\n",
       "    }\n",
       "\n",
       "    .dataframe thead th {\n",
       "        text-align: right;\n",
       "    }\n",
       "</style>\n",
       "<table border=\"1\" class=\"dataframe\">\n",
       "  <thead>\n",
       "    <tr style=\"text-align: right;\">\n",
       "      <th></th>\n",
       "      <th>ENGINESIZE</th>\n",
       "      <th>CYLINDERS</th>\n",
       "      <th>FUELCONSUMPTION_COMB</th>\n",
       "      <th>CO2EMISSIONS</th>\n",
       "    </tr>\n",
       "  </thead>\n",
       "  <tbody>\n",
       "    <tr>\n",
       "      <th>0</th>\n",
       "      <td>2.0</td>\n",
       "      <td>4</td>\n",
       "      <td>8.5</td>\n",
       "      <td>196</td>\n",
       "    </tr>\n",
       "    <tr>\n",
       "      <th>1</th>\n",
       "      <td>2.4</td>\n",
       "      <td>4</td>\n",
       "      <td>9.6</td>\n",
       "      <td>221</td>\n",
       "    </tr>\n",
       "    <tr>\n",
       "      <th>2</th>\n",
       "      <td>1.5</td>\n",
       "      <td>4</td>\n",
       "      <td>5.9</td>\n",
       "      <td>136</td>\n",
       "    </tr>\n",
       "    <tr>\n",
       "      <th>3</th>\n",
       "      <td>3.5</td>\n",
       "      <td>6</td>\n",
       "      <td>11.1</td>\n",
       "      <td>255</td>\n",
       "    </tr>\n",
       "    <tr>\n",
       "      <th>4</th>\n",
       "      <td>3.5</td>\n",
       "      <td>6</td>\n",
       "      <td>10.6</td>\n",
       "      <td>244</td>\n",
       "    </tr>\n",
       "    <tr>\n",
       "      <th>5</th>\n",
       "      <td>3.5</td>\n",
       "      <td>6</td>\n",
       "      <td>10.0</td>\n",
       "      <td>230</td>\n",
       "    </tr>\n",
       "    <tr>\n",
       "      <th>6</th>\n",
       "      <td>3.5</td>\n",
       "      <td>6</td>\n",
       "      <td>10.1</td>\n",
       "      <td>232</td>\n",
       "    </tr>\n",
       "    <tr>\n",
       "      <th>7</th>\n",
       "      <td>3.7</td>\n",
       "      <td>6</td>\n",
       "      <td>11.1</td>\n",
       "      <td>255</td>\n",
       "    </tr>\n",
       "    <tr>\n",
       "      <th>8</th>\n",
       "      <td>3.7</td>\n",
       "      <td>6</td>\n",
       "      <td>11.6</td>\n",
       "      <td>267</td>\n",
       "    </tr>\n",
       "  </tbody>\n",
       "</table>\n",
       "</div>"
      ],
      "text/plain": [
       "   ENGINESIZE  CYLINDERS  FUELCONSUMPTION_COMB  CO2EMISSIONS\n",
       "0         2.0          4                   8.5           196\n",
       "1         2.4          4                   9.6           221\n",
       "2         1.5          4                   5.9           136\n",
       "3         3.5          6                  11.1           255\n",
       "4         3.5          6                  10.6           244\n",
       "5         3.5          6                  10.0           230\n",
       "6         3.5          6                  10.1           232\n",
       "7         3.7          6                  11.1           255\n",
       "8         3.7          6                  11.6           267"
      ]
     },
     "execution_count": 5,
     "metadata": {},
     "output_type": "execute_result"
    }
   ],
   "source": [
    "cdf = df[['ENGINESIZE','CYLINDERS','FUELCONSUMPTION_COMB','CO2EMISSIONS']]\n",
    "cdf.head(9)"
   ]
  },
  {
   "cell_type": "code",
   "execution_count": 6,
   "id": "c4ce596d",
   "metadata": {
    "execution": {
     "iopub.execute_input": "2022-02-27T23:48:56.409728Z",
     "iopub.status.busy": "2022-02-27T23:48:56.408990Z",
     "iopub.status.idle": "2022-02-27T23:48:56.411894Z",
     "shell.execute_reply": "2022-02-27T23:48:56.411322Z",
     "shell.execute_reply.started": "2022-02-27T23:43:49.004551Z"
    },
    "papermill": {
     "duration": 0.041194,
     "end_time": "2022-02-27T23:48:56.412042",
     "exception": false,
     "start_time": "2022-02-27T23:48:56.370848",
     "status": "completed"
    },
    "tags": []
   },
   "outputs": [],
   "source": [
    "import warnings # to remove all future warnings\n",
    "warnings.simplefilter(action=\"ignore\", category=FutureWarning)"
   ]
  },
  {
   "cell_type": "code",
   "execution_count": 7,
   "id": "77f47769",
   "metadata": {
    "execution": {
     "iopub.execute_input": "2022-02-27T23:48:56.483058Z",
     "iopub.status.busy": "2022-02-27T23:48:56.481952Z",
     "iopub.status.idle": "2022-02-27T23:48:56.980380Z",
     "shell.execute_reply": "2022-02-27T23:48:56.980910Z",
     "shell.execute_reply.started": "2022-02-27T23:43:49.012080Z"
    },
    "papermill": {
     "duration": 0.537391,
     "end_time": "2022-02-27T23:48:56.981087",
     "exception": false,
     "start_time": "2022-02-27T23:48:56.443696",
     "status": "completed"
    },
    "tags": []
   },
   "outputs": [
    {
     "data": {
      "image/png": "[encoded data removed]",
      "text/plain": [
       "<Figure size 432x288 with 4 Axes>"
      ]
     },
     "metadata": {
      "needs_background": "light"
     },
     "output_type": "display_data"
    }
   ],
   "source": [
    "viz = cdf[['CYLINDERS','ENGINESIZE','CO2EMISSIONS','FUELCONSUMPTION_COMB']]\n",
    "viz.hist()\n",
    "plt.show()"
   ]
  },
  {
   "cell_type": "code",
   "execution_count": 8,
   "id": "a35ac6a5",
   "metadata": {
    "execution": {
     "iopub.execute_input": "2022-02-27T23:48:57.051683Z",
     "iopub.status.busy": "2022-02-27T23:48:57.050658Z",
     "iopub.status.idle": "2022-02-27T23:48:57.255173Z",
     "shell.execute_reply": "2022-02-27T23:48:57.255694Z",
     "shell.execute_reply.started": "2022-02-27T23:43:49.630380Z"
    },
    "papermill": {
     "duration": 0.241974,
     "end_time": "2022-02-27T23:48:57.255870",
     "exception": false,
     "start_time": "2022-02-27T23:48:57.013896",
     "status": "completed"
    },
    "tags": []
   },
   "outputs": [
    {
     "data": {
      "image/png": "[encoded data removed]",
      "text/plain": [
       "<Figure size 432x288 with 1 Axes>"
      ]
     },
     "metadata": {
      "needs_background": "light"
     },
     "output_type": "display_data"
    }
   ],
   "source": [
    "plt.scatter(cdf.FUELCONSUMPTION_COMB, cdf.CO2EMISSIONS,  color='red')\n",
    "plt.xlabel(\"FUELCONSUMPTION_COMB\")\n",
    "plt.ylabel(\"Emission\")\n",
    "plt.show()"
   ]
  },
  {
   "cell_type": "code",
   "execution_count": 9,
   "id": "25892305",
   "metadata": {
    "execution": {
     "iopub.execute_input": "2022-02-27T23:48:57.326606Z",
     "iopub.status.busy": "2022-02-27T23:48:57.325516Z",
     "iopub.status.idle": "2022-02-27T23:48:57.334474Z",
     "shell.execute_reply": "2022-02-27T23:48:57.335144Z",
     "shell.execute_reply.started": "2022-02-27T23:43:49.829433Z"
    },
    "papermill": {
     "duration": 0.045963,
     "end_time": "2022-02-27T23:48:57.335317",
     "exception": false,
     "start_time": "2022-02-27T23:48:57.289354",
     "status": "completed"
    },
    "tags": []
   },
   "outputs": [
    {
     "data": {
      "text/plain": [
       "MODELYEAR                   0\n",
       "MAKE                        0\n",
       "MODEL                       0\n",
       "VEHICLECLASS                0\n",
       "ENGINESIZE                  0\n",
       "CYLINDERS                   0\n",
       "TRANSMISSION                0\n",
       "FUELTYPE                    0\n",
       "FUELCONSUMPTION_CITY        0\n",
       "FUELCONSUMPTION_HWY         0\n",
       "FUELCONSUMPTION_COMB        0\n",
       "FUELCONSUMPTION_COMB_MPG    0\n",
       "CO2EMISSIONS                0\n",
       "dtype: int64"
      ]
     },
     "execution_count": 9,
     "metadata": {},
     "output_type": "execute_result"
    }
   ],
   "source": [
    "df.isna().sum()"
   ]
  },
  {
   "cell_type": "markdown",
   "id": "ce57b3eb",
   "metadata": {
    "papermill": {
     "duration": 0.033622,
     "end_time": "2022-02-27T23:48:57.402565",
     "exception": false,
     "start_time": "2022-02-27T23:48:57.368943",
     "status": "completed"
    },
    "tags": []
   },
   "source": [
    "\n",
    "# Simple Linear Regression Trail 1\n",
    "where dependant Variable is CO2EMISSIONS and Independant Variable is ENGINESIZE."
   ]
  },
  {
   "cell_type": "code",
   "execution_count": 10,
   "id": "25193cc1",
   "metadata": {
    "execution": {
     "iopub.execute_input": "2022-02-27T23:48:57.473761Z",
     "iopub.status.busy": "2022-02-27T23:48:57.472770Z",
     "iopub.status.idle": "2022-02-27T23:48:57.478271Z",
     "shell.execute_reply": "2022-02-27T23:48:57.478845Z",
     "shell.execute_reply.started": "2022-02-27T23:43:49.840791Z"
    },
    "papermill": {
     "duration": 0.042806,
     "end_time": "2022-02-27T23:48:57.479016",
     "exception": false,
     "start_time": "2022-02-27T23:48:57.436210",
     "status": "completed"
    },
    "tags": []
   },
   "outputs": [],
   "source": [
    "#splitting the data\n",
    "msk = np.random.rand(len(df)) < 0.8\n",
    "train = cdf[msk]\n",
    "test = cdf[~msk]"
   ]
  },
  {
   "cell_type": "code",
   "execution_count": 11,
   "id": "25bbbb58",
   "metadata": {
    "execution": {
     "iopub.execute_input": "2022-02-27T23:48:57.550921Z",
     "iopub.status.busy": "2022-02-27T23:48:57.549916Z",
     "iopub.status.idle": "2022-02-27T23:48:57.756790Z",
     "shell.execute_reply": "2022-02-27T23:48:57.757362Z",
     "shell.execute_reply.started": "2022-02-27T23:43:49.852570Z"
    },
    "papermill": {
     "duration": 0.244896,
     "end_time": "2022-02-27T23:48:57.757548",
     "exception": false,
     "start_time": "2022-02-27T23:48:57.512652",
     "status": "completed"
    },
    "tags": []
   },
   "outputs": [
    {
     "data": {
      "image/png": "[encoded data removed]",
      "text/plain": [
       "<Figure size 432x288 with 1 Axes>"
      ]
     },
     "metadata": {
      "needs_background": "light"
     },
     "output_type": "display_data"
    }
   ],
   "source": [
    "plt.scatter(train.ENGINESIZE, train.CO2EMISSIONS,  color='green')\n",
    "plt.xlabel(\"Engine size\")\n",
    "plt.ylabel(\"Emission\")\n",
    "plt.show()"
   ]
  },
  {
   "cell_type": "code",
   "execution_count": 12,
   "id": "77785d4c",
   "metadata": {
    "execution": {
     "iopub.execute_input": "2022-02-27T23:48:57.831461Z",
     "iopub.status.busy": "2022-02-27T23:48:57.830390Z",
     "iopub.status.idle": "2022-02-27T23:48:58.107057Z",
     "shell.execute_reply": "2022-02-27T23:48:58.106215Z",
     "shell.execute_reply.started": "2022-02-27T23:43:50.029376Z"
    },
    "papermill": {
     "duration": 0.314706,
     "end_time": "2022-02-27T23:48:58.107253",
     "exception": false,
     "start_time": "2022-02-27T23:48:57.792547",
     "status": "completed"
    },
    "tags": []
   },
   "outputs": [
    {
     "name": "stdout",
     "output_type": "stream",
     "text": [
      "Coefficients:  [[38.74235495]]\n",
      "Intercept:  [126.67152145]\n"
     ]
    }
   ],
   "source": [
    "from sklearn import linear_model\n",
    "regr = linear_model.LinearRegression()\n",
    "train_x = np.asanyarray(train[['ENGINESIZE']])\n",
    "train_y = np.asanyarray(train[['CO2EMISSIONS']])\n",
    "regr.fit(train_x, train_y)\n",
    "# The coefficients\n",
    "print ('Coefficients: ', regr.coef_)\n",
    "print ('Intercept: ',regr.intercept_)"
   ]
  },
  {
   "cell_type": "code",
   "execution_count": 13,
   "id": "8a533c65",
   "metadata": {
    "execution": {
     "iopub.execute_input": "2022-02-27T23:48:58.184708Z",
     "iopub.status.busy": "2022-02-27T23:48:58.184011Z",
     "iopub.status.idle": "2022-02-27T23:48:58.431238Z",
     "shell.execute_reply": "2022-02-27T23:48:58.431752Z",
     "shell.execute_reply.started": "2022-02-27T23:43:50.044129Z"
    },
    "papermill": {
     "duration": 0.287246,
     "end_time": "2022-02-27T23:48:58.431940",
     "exception": false,
     "start_time": "2022-02-27T23:48:58.144694",
     "status": "completed"
    },
    "tags": []
   },
   "outputs": [
    {
     "data": {
      "text/plain": [
       "Text(0, 0.5, 'Emission')"
      ]
     },
     "execution_count": 13,
     "metadata": {},
     "output_type": "execute_result"
    },
    {
     "data": {
      "image/png": "[encoded data removed]",
      "text/plain": [
       "<Figure size 432x288 with 1 Axes>"
      ]
     },
     "metadata": {
      "needs_background": "light"
     },
     "output_type": "display_data"
    }
   ],
   "source": [
    "#i dont know why we need to use [0]\n",
    "plt.scatter(train.ENGINESIZE, train.CO2EMISSIONS,  color='blue')\n",
    "plt.plot(train_x, regr.coef_[0][0]*train_x + regr.intercept_[0], 'black')\n",
    "plt.xlabel(\"Engine size\")\n",
    "plt.ylabel(\"Emission\")"
   ]
  },
  {
   "cell_type": "code",
   "execution_count": 14,
   "id": "769900cc",
   "metadata": {
    "execution": {
     "iopub.execute_input": "2022-02-27T23:48:58.510006Z",
     "iopub.status.busy": "2022-02-27T23:48:58.509040Z",
     "iopub.status.idle": "2022-02-27T23:48:58.518599Z",
     "shell.execute_reply": "2022-02-27T23:48:58.519079Z",
     "shell.execute_reply.started": "2022-02-27T23:43:50.289024Z"
    },
    "papermill": {
     "duration": 0.050263,
     "end_time": "2022-02-27T23:48:58.519255",
     "exception": false,
     "start_time": "2022-02-27T23:48:58.468992",
     "status": "completed"
    },
    "tags": []
   },
   "outputs": [
    {
     "name": "stdout",
     "output_type": "stream",
     "text": [
      "Mean absolute error: 23.00\n",
      "Residual sum of squares (MSE): 922.96\n",
      "R2-score: 0.76\n"
     ]
    }
   ],
   "source": [
    "from sklearn.metrics import r2_score\n",
    "\n",
    "test_x = np.asanyarray(test[['ENGINESIZE']])\n",
    "test_y = np.asanyarray(test[['CO2EMISSIONS']])\n",
    "pre_y = regr.predict(test_x)\n",
    "\n",
    "print(\"Mean absolute error: %.2f\" % np.mean(np.absolute(pre_y - test_y)))\n",
    "print(\"Residual sum of squares (MSE): %.2f\" % np.mean((pre_y - test_y) ** 2))\n",
    "print(\"R2-score: %.2f\" % r2_score(test_y , pre_y) )"
   ]
  },
  {
   "cell_type": "markdown",
   "id": "db42fd4b",
   "metadata": {
    "papermill": {
     "duration": 0.039336,
     "end_time": "2022-02-27T23:48:58.597156",
     "exception": false,
     "start_time": "2022-02-27T23:48:58.557820",
     "status": "completed"
    },
    "tags": []
   },
   "source": [
    "# Simple Linear Regression Trail 2\n",
    "where dependant Variable is CO2EMISSIONS and Independant Variable is FuelConsumption."
   ]
  },
  {
   "cell_type": "code",
   "execution_count": 15,
   "id": "fbd2e906",
   "metadata": {
    "execution": {
     "iopub.execute_input": "2022-02-27T23:48:58.677380Z",
     "iopub.status.busy": "2022-02-27T23:48:58.676665Z",
     "iopub.status.idle": "2022-02-27T23:48:58.682856Z",
     "shell.execute_reply": "2022-02-27T23:48:58.682292Z",
     "shell.execute_reply.started": "2022-02-27T23:43:50.302061Z"
    },
    "papermill": {
     "duration": 0.047856,
     "end_time": "2022-02-27T23:48:58.683005",
     "exception": false,
     "start_time": "2022-02-27T23:48:58.635149",
     "status": "completed"
    },
    "tags": []
   },
   "outputs": [],
   "source": [
    "train_x_2 = train[['FUELCONSUMPTION_COMB']]\n",
    "\n",
    "test_x_2 = test[['FUELCONSUMPTION_COMB']]"
   ]
  },
  {
   "cell_type": "code",
   "execution_count": 16,
   "id": "e8f65a4f",
   "metadata": {
    "execution": {
     "iopub.execute_input": "2022-02-27T23:48:58.769822Z",
     "iopub.status.busy": "2022-02-27T23:48:58.769049Z",
     "iopub.status.idle": "2022-02-27T23:48:58.772743Z",
     "shell.execute_reply": "2022-02-27T23:48:58.773440Z",
     "shell.execute_reply.started": "2022-02-27T23:43:50.314270Z"
    },
    "papermill": {
     "duration": 0.053416,
     "end_time": "2022-02-27T23:48:58.773636",
     "exception": false,
     "start_time": "2022-02-27T23:48:58.720220",
     "status": "completed"
    },
    "tags": []
   },
   "outputs": [
    {
     "name": "stdout",
     "output_type": "stream",
     "text": [
      "Coefficients:  [[16.26159257]]\n",
      "Intercept:  [68.20599007]\n"
     ]
    }
   ],
   "source": [
    "regr = linear_model.LinearRegression()\n",
    "regr.fit(train_x_2, train_y)\n",
    "pre_y_2 =regr.predict(test_x_2)\n",
    "# The coefficients\n",
    "print ('Coefficients: ', regr.coef_)\n",
    "print ('Intercept: ',regr.intercept_)\n"
   ]
  },
  {
   "cell_type": "code",
   "execution_count": 17,
   "id": "ea75dd1f",
   "metadata": {
    "execution": {
     "iopub.execute_input": "2022-02-27T23:48:58.854404Z",
     "iopub.status.busy": "2022-02-27T23:48:58.853720Z",
     "iopub.status.idle": "2022-02-27T23:48:58.860799Z",
     "shell.execute_reply": "2022-02-27T23:48:58.861255Z",
     "shell.execute_reply.started": "2022-02-27T23:43:50.329978Z"
    },
    "papermill": {
     "duration": 0.048936,
     "end_time": "2022-02-27T23:48:58.861430",
     "exception": false,
     "start_time": "2022-02-27T23:48:58.812494",
     "status": "completed"
    },
    "tags": []
   },
   "outputs": [
    {
     "name": "stdout",
     "output_type": "stream",
     "text": [
      "Mean absolute error: 23.00\n",
      "Residual sum of squares (MSE): 880.15\n",
      "R2-score: 0.77\n"
     ]
    }
   ],
   "source": [
    "print(\"Mean absolute error: %.2f\" % np.mean(np.absolute(pre_y - test_y)))\n",
    "print(\"Residual sum of squares (MSE): %.2f\" % np.mean((pre_y_2 - test_y) ** 2))\n",
    "print(\"R2-score: %.2f\" % r2_score(test_y , pre_y_2) )"
   ]
  },
  {
   "cell_type": "markdown",
   "id": "308f5f70",
   "metadata": {
    "papermill": {
     "duration": 0.037706,
     "end_time": "2022-02-27T23:48:58.937190",
     "exception": false,
     "start_time": "2022-02-27T23:48:58.899484",
     "status": "completed"
    },
    "tags": []
   },
   "source": [
    "# **-----------------------------------------**"
   ]
  },
  {
   "cell_type": "markdown",
   "id": "13f5e4cd",
   "metadata": {
    "papermill": {
     "duration": 0.037811,
     "end_time": "2022-02-27T23:48:59.013108",
     "exception": false,
     "start_time": "2022-02-27T23:48:58.975297",
     "status": "completed"
    },
    "tags": []
   },
   "source": [
    "# **Multiple Regression Model:**\n",
    "\n",
    "Calculating CO2EMISSIONS based on multiple variables."
   ]
  },
  {
   "cell_type": "code",
   "execution_count": 18,
   "id": "21a99fe4",
   "metadata": {
    "execution": {
     "iopub.execute_input": "2022-02-27T23:48:59.108586Z",
     "iopub.status.busy": "2022-02-27T23:48:59.107591Z",
     "iopub.status.idle": "2022-02-27T23:48:59.111296Z",
     "shell.execute_reply": "2022-02-27T23:48:59.111809Z",
     "shell.execute_reply.started": "2022-02-27T23:43:50.341912Z"
    },
    "papermill": {
     "duration": 0.060143,
     "end_time": "2022-02-27T23:48:59.111986",
     "exception": false,
     "start_time": "2022-02-27T23:48:59.051843",
     "status": "completed"
    },
    "tags": []
   },
   "outputs": [
    {
     "data": {
      "text/html": [
       "<div>\n",
       "<style scoped>\n",
       "    .dataframe tbody tr th:only-of-type {\n",
       "        vertical-align: middle;\n",
       "    }\n",
       "\n",
       "    .dataframe tbody tr th {\n",
       "        vertical-align: top;\n",
       "    }\n",
       "\n",
       "    .dataframe thead th {\n",
       "        text-align: right;\n",
       "    }\n",
       "</style>\n",
       "<table border=\"1\" class=\"dataframe\">\n",
       "  <thead>\n",
       "    <tr style=\"text-align: right;\">\n",
       "      <th></th>\n",
       "      <th>ENGINESIZE</th>\n",
       "      <th>CYLINDERS</th>\n",
       "      <th>FUELCONSUMPTION_CITY</th>\n",
       "      <th>FUELCONSUMPTION_HWY</th>\n",
       "      <th>FUELCONSUMPTION_COMB</th>\n",
       "      <th>CO2EMISSIONS</th>\n",
       "    </tr>\n",
       "  </thead>\n",
       "  <tbody>\n",
       "    <tr>\n",
       "      <th>0</th>\n",
       "      <td>2.0</td>\n",
       "      <td>4</td>\n",
       "      <td>9.9</td>\n",
       "      <td>6.7</td>\n",
       "      <td>8.5</td>\n",
       "      <td>196</td>\n",
       "    </tr>\n",
       "    <tr>\n",
       "      <th>1</th>\n",
       "      <td>2.4</td>\n",
       "      <td>4</td>\n",
       "      <td>11.2</td>\n",
       "      <td>7.7</td>\n",
       "      <td>9.6</td>\n",
       "      <td>221</td>\n",
       "    </tr>\n",
       "    <tr>\n",
       "      <th>2</th>\n",
       "      <td>1.5</td>\n",
       "      <td>4</td>\n",
       "      <td>6.0</td>\n",
       "      <td>5.8</td>\n",
       "      <td>5.9</td>\n",
       "      <td>136</td>\n",
       "    </tr>\n",
       "    <tr>\n",
       "      <th>3</th>\n",
       "      <td>3.5</td>\n",
       "      <td>6</td>\n",
       "      <td>12.7</td>\n",
       "      <td>9.1</td>\n",
       "      <td>11.1</td>\n",
       "      <td>255</td>\n",
       "    </tr>\n",
       "    <tr>\n",
       "      <th>4</th>\n",
       "      <td>3.5</td>\n",
       "      <td>6</td>\n",
       "      <td>12.1</td>\n",
       "      <td>8.7</td>\n",
       "      <td>10.6</td>\n",
       "      <td>244</td>\n",
       "    </tr>\n",
       "    <tr>\n",
       "      <th>5</th>\n",
       "      <td>3.5</td>\n",
       "      <td>6</td>\n",
       "      <td>11.9</td>\n",
       "      <td>7.7</td>\n",
       "      <td>10.0</td>\n",
       "      <td>230</td>\n",
       "    </tr>\n",
       "    <tr>\n",
       "      <th>6</th>\n",
       "      <td>3.5</td>\n",
       "      <td>6</td>\n",
       "      <td>11.8</td>\n",
       "      <td>8.1</td>\n",
       "      <td>10.1</td>\n",
       "      <td>232</td>\n",
       "    </tr>\n",
       "    <tr>\n",
       "      <th>7</th>\n",
       "      <td>3.7</td>\n",
       "      <td>6</td>\n",
       "      <td>12.8</td>\n",
       "      <td>9.0</td>\n",
       "      <td>11.1</td>\n",
       "      <td>255</td>\n",
       "    </tr>\n",
       "    <tr>\n",
       "      <th>8</th>\n",
       "      <td>3.7</td>\n",
       "      <td>6</td>\n",
       "      <td>13.4</td>\n",
       "      <td>9.5</td>\n",
       "      <td>11.6</td>\n",
       "      <td>267</td>\n",
       "    </tr>\n",
       "    <tr>\n",
       "      <th>9</th>\n",
       "      <td>2.4</td>\n",
       "      <td>4</td>\n",
       "      <td>10.6</td>\n",
       "      <td>7.5</td>\n",
       "      <td>9.2</td>\n",
       "      <td>212</td>\n",
       "    </tr>\n",
       "  </tbody>\n",
       "</table>\n",
       "</div>"
      ],
      "text/plain": [
       "   ENGINESIZE  CYLINDERS  FUELCONSUMPTION_CITY  FUELCONSUMPTION_HWY  \\\n",
       "0         2.0          4                   9.9                  6.7   \n",
       "1         2.4          4                  11.2                  7.7   \n",
       "2         1.5          4                   6.0                  5.8   \n",
       "3         3.5          6                  12.7                  9.1   \n",
       "4         3.5          6                  12.1                  8.7   \n",
       "5         3.5          6                  11.9                  7.7   \n",
       "6         3.5          6                  11.8                  8.1   \n",
       "7         3.7          6                  12.8                  9.0   \n",
       "8         3.7          6                  13.4                  9.5   \n",
       "9         2.4          4                  10.6                  7.5   \n",
       "\n",
       "   FUELCONSUMPTION_COMB  CO2EMISSIONS  \n",
       "0                   8.5           196  \n",
       "1                   9.6           221  \n",
       "2                   5.9           136  \n",
       "3                  11.1           255  \n",
       "4                  10.6           244  \n",
       "5                  10.0           230  \n",
       "6                  10.1           232  \n",
       "7                  11.1           255  \n",
       "8                  11.6           267  \n",
       "9                   9.2           212  "
      ]
     },
     "execution_count": 18,
     "metadata": {},
     "output_type": "execute_result"
    }
   ],
   "source": [
    "mlr = df[['ENGINESIZE','CYLINDERS','FUELCONSUMPTION_CITY','FUELCONSUMPTION_HWY','FUELCONSUMPTION_COMB','CO2EMISSIONS']]\n",
    "mlr.head(10)"
   ]
  },
  {
   "cell_type": "code",
   "execution_count": 19,
   "id": "f7fd2199",
   "metadata": {
    "execution": {
     "iopub.execute_input": "2022-02-27T23:48:59.194821Z",
     "iopub.status.busy": "2022-02-27T23:48:59.193741Z",
     "iopub.status.idle": "2022-02-27T23:48:59.401708Z",
     "shell.execute_reply": "2022-02-27T23:48:59.402153Z",
     "shell.execute_reply.started": "2022-02-27T23:43:50.366246Z"
    },
    "papermill": {
     "duration": 0.250698,
     "end_time": "2022-02-27T23:48:59.402326",
     "exception": false,
     "start_time": "2022-02-27T23:48:59.151628",
     "status": "completed"
    },
    "tags": []
   },
   "outputs": [
    {
     "data": {
      "image/png": "[encoded data removed]",
      "text/plain": [
       "<Figure size 432x288 with 1 Axes>"
      ]
     },
     "metadata": {
      "needs_background": "light"
     },
     "output_type": "display_data"
    }
   ],
   "source": [
    "plt.scatter(mlr.ENGINESIZE, mlr.CO2EMISSIONS,  color='blue')\n",
    "plt.xlabel(\"Engine size\")\n",
    "plt.ylabel(\"Emission\")\n",
    "plt.show()"
   ]
  },
  {
   "cell_type": "code",
   "execution_count": 20,
   "id": "7b1a827d",
   "metadata": {
    "execution": {
     "iopub.execute_input": "2022-02-27T23:48:59.485173Z",
     "iopub.status.busy": "2022-02-27T23:48:59.484558Z",
     "iopub.status.idle": "2022-02-27T23:48:59.497539Z",
     "shell.execute_reply": "2022-02-27T23:48:59.496877Z",
     "shell.execute_reply.started": "2022-02-27T23:43:50.577483Z"
    },
    "papermill": {
     "duration": 0.055766,
     "end_time": "2022-02-27T23:48:59.497698",
     "exception": false,
     "start_time": "2022-02-27T23:48:59.441932",
     "status": "completed"
    },
    "tags": []
   },
   "outputs": [
    {
     "name": "stdout",
     "output_type": "stream",
     "text": [
      "Coefficients:  [[10.80100144  7.33634713  9.72781867]]\n"
     ]
    }
   ],
   "source": [
    "from sklearn import linear_model\n",
    "regr = linear_model.LinearRegression()\n",
    "mlr_train_x = np.asanyarray(train[['ENGINESIZE','CYLINDERS','FUELCONSUMPTION_COMB']])\n",
    "mlr_train_y = np.asanyarray(train[['CO2EMISSIONS']])\n",
    "regr.fit (mlr_train_x, mlr_train_y)\n",
    "# The coefficients\n",
    "print ('Coefficients: ', regr.coef_)"
   ]
  },
  {
   "cell_type": "code",
   "execution_count": 21,
   "id": "7ac3d68b",
   "metadata": {
    "execution": {
     "iopub.execute_input": "2022-02-27T23:48:59.581924Z",
     "iopub.status.busy": "2022-02-27T23:48:59.580946Z",
     "iopub.status.idle": "2022-02-27T23:48:59.594788Z",
     "shell.execute_reply": "2022-02-27T23:48:59.595550Z",
     "shell.execute_reply.started": "2022-02-27T23:43:50.589668Z"
    },
    "papermill": {
     "duration": 0.057969,
     "end_time": "2022-02-27T23:48:59.595790",
     "exception": false,
     "start_time": "2022-02-27T23:48:59.537821",
     "status": "completed"
    },
    "tags": []
   },
   "outputs": [
    {
     "name": "stdout",
     "output_type": "stream",
     "text": [
      "Mean absolute error: 17.43\n",
      "Residual sum of squares (MSE): 586.90\n",
      "R2-score: 0.85\n",
      "Variance score: 0.85\n"
     ]
    }
   ],
   "source": [
    "y_hat= regr.predict(test[['ENGINESIZE','CYLINDERS','FUELCONSUMPTION_COMB']])\n",
    "mlr_test_x = np.asanyarray(test[['ENGINESIZE','CYLINDERS','FUELCONSUMPTION_COMB']])\n",
    "mlr_test_y = np.asanyarray(test[['CO2EMISSIONS']])\n",
    "\n",
    "\n",
    "print(\"Mean absolute error: %.2f\" % np.mean(np.absolute(y_hat - mlr_test_y)))\n",
    "print(\"Residual sum of squares (MSE): %.2f\" % np.mean((y_hat - mlr_test_y) ** 2))\n",
    "print(\"R2-score: %.2f\" % r2_score(mlr_test_y , y_hat) )\n",
    "\n",
    "# Explained variance score: 1 is perfect prediction\n",
    "print('Variance score: %.2f' % regr.score(mlr_test_x, mlr_test_y))"
   ]
  }
 ],
 "metadata": {
  "kernelspec": {
   "display_name": "Python 3",
   "language": "python",
   "name": "python3"
  },
  "language_info": {
   "codemirror_mode": {
    "name": "ipython",
    "version": 3
   },
   "file_extension": ".py",
   "mimetype": "text/x-python",
   "name": "python",
   "nbconvert_exporter": "python",
   "pygments_lexer": "ipython3",
   "version": "3.7.12"
  },
  "papermill": {
   "default_parameters": {},
   "duration": 19.494109,
   "end_time": "2022-02-27T23:49:00.448296",
   "environment_variables": {},
   "exception": null,
   "input_path": "__notebook__.ipynb",
   "output_path": "__notebook__.ipynb",
   "parameters": {},
   "start_time": "2022-02-27T23:48:40.954187",
   "version": "2.3.3"
  }
 },
 "nbformat": 4,
 "nbformat_minor": 5
}
