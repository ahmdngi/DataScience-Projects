{
 "cells": [
  {
   "cell_type": "markdown",
   "id": "cd0af6cd",
   "metadata": {
    "papermill": {
     "duration": 0.026976,
     "end_time": "2022-02-27T23:44:22.689686",
     "exception": false,
     "start_time": "2022-02-27T23:44:22.662710",
     "status": "completed"
    },
    "tags": []
   },
   "source": [
    "# **Regression Models (Simple Linear-Multiple)**"
   ]
  },
  {
   "cell_type": "markdown",
   "id": "1f98ec46",
   "metadata": {
    "papermill": {
     "duration": 0.025487,
     "end_time": "2022-02-27T23:44:22.742068",
     "exception": false,
     "start_time": "2022-02-27T23:44:22.716581",
     "status": "completed"
    },
    "tags": []
   },
   "source": [
    "# Simple Linear Regression"
   ]
  },
  {
   "cell_type": "markdown",
   "id": "008f3810",
   "metadata": {
    "papermill": {
     "duration": 0.025387,
     "end_time": "2022-02-27T23:44:22.793325",
     "exception": false,
     "start_time": "2022-02-27T23:44:22.767938",
     "status": "completed"
    },
    "tags": []
   },
   "source": [
    "**Carbon Dioxide Emissions**:\n",
    "\n",
    "Using Simple Regression Model to predict the co2 emission of a car based on its engine size for trial 1 and fuel consumption for trail 2 "
   ]
  },
  {
   "cell_type": "code",
   "execution_count": 1,
   "id": "8e7c2f1e",
   "metadata": {
    "_cell_guid": "b1076dfc-b9ad-4769-8c92-a6c4dae69d19",
    "_uuid": "8f2839f25d086af736a60e9eeb907d3b93b6e0e5",
    "execution": {
     "iopub.execute_input": "2022-02-27T23:44:22.858707Z",
     "iopub.status.busy": "2022-02-27T23:44:22.858076Z",
     "iopub.status.idle": "2022-02-27T23:44:23.883179Z",
     "shell.execute_reply": "2022-02-27T23:44:23.882414Z",
     "shell.execute_reply.started": "2022-02-27T23:43:47.475697Z"
    },
    "papermill": {
     "duration": 1.064281,
     "end_time": "2022-02-27T23:44:23.883341",
     "exception": false,
     "start_time": "2022-02-27T23:44:22.819060",
     "status": "completed"
    },
    "tags": []
   },
   "outputs": [],
   "source": [
    "import matplotlib.pyplot as plt\n",
    "import pandas as pd\n",
    "import pylab as pl\n",
    "import numpy as np\n",
    "import seaborn as sns\n",
    "%matplotlib inline"
   ]
  },
  {
   "cell_type": "code",
   "execution_count": 2,
   "id": "ded0e3e2",
   "metadata": {
    "execution": {
     "iopub.execute_input": "2022-02-27T23:44:23.941967Z",
     "iopub.status.busy": "2022-02-27T23:44:23.941314Z",
     "iopub.status.idle": "2022-02-27T23:44:25.489172Z",
     "shell.execute_reply": "2022-02-27T23:44:25.488551Z",
     "shell.execute_reply.started": "2022-02-27T23:43:47.485230Z"
    },
    "papermill": {
     "duration": 1.57986,
     "end_time": "2022-02-27T23:44:25.489324",
     "exception": false,
     "start_time": "2022-02-27T23:44:23.909464",
     "status": "completed"
    },
    "tags": []
   },
   "outputs": [
    {
     "name": "stdout",
     "output_type": "stream",
     "text": [
      "--2022-02-27 23:44:24--  https://cf-courses-data.s3.us.cloud-object-storage.appdomain.cloud/IBMDeveloperSkillsNetwork-ML0101EN-SkillsNetwork/labs/Module%202/data/FuelConsumptionCo2.csv\r\n",
      "Resolving cf-courses-data.s3.us.cloud-object-storage.appdomain.cloud (cf-courses-data.s3.us.cloud-object-storage.appdomain.cloud)... 198.23.119.245\r\n",
      "Connecting to cf-courses-data.s3.us.cloud-object-storage.appdomain.cloud (cf-courses-data.s3.us.cloud-object-storage.appdomain.cloud)|198.23.119.245|:443... connected.\r\n",
      "HTTP request sent, awaiting response... 200 OK\r\n",
      "Length: 72629 (71K) [text/csv]\r\n",
      "Saving to: ‘FuelConsumption.csv’\r\n",
      "\r\n",
      "FuelConsumption.csv 100%[===================>]  70.93K   339KB/s    in 0.2s    \r\n",
      "\r\n",
      "2022-02-27 23:44:25 (339 KB/s) - ‘FuelConsumption.csv’ saved [72629/72629]\r\n",
      "\r\n"
     ]
    }
   ],
   "source": [
    "!wget -O FuelConsumption.csv https://cf-courses-data.s3.us.cloud-object-storage.appdomain.cloud/IBMDeveloperSkillsNetwork-ML0101EN-SkillsNetwork/labs/Module%202/data/FuelConsumptionCo2.csv"
   ]
  },
  {
   "cell_type": "code",
   "execution_count": 3,
   "id": "0861faec",
   "metadata": {
    "execution": {
     "iopub.execute_input": "2022-02-27T23:44:25.554363Z",
     "iopub.status.busy": "2022-02-27T23:44:25.550453Z",
     "iopub.status.idle": "2022-02-27T23:44:25.588321Z",
     "shell.execute_reply": "2022-02-27T23:44:25.587706Z",
     "shell.execute_reply.started": "2022-02-27T23:43:48.920012Z"
    },
    "papermill": {
     "duration": 0.070175,
     "end_time": "2022-02-27T23:44:25.588462",
     "exception": false,
     "start_time": "2022-02-27T23:44:25.518287",
     "status": "completed"
    },
    "tags": []
   },
   "outputs": [
    {
     "data": {
      "text/html": [
       "<div>\n",
       "<style scoped>\n",
       "    .dataframe tbody tr th:only-of-type {\n",
       "        vertical-align: middle;\n",
       "    }\n",
       "\n",
       "    .dataframe tbody tr th {\n",
       "        vertical-align: top;\n",
       "    }\n",
       "\n",
       "    .dataframe thead th {\n",
       "        text-align: right;\n",
       "    }\n",
       "</style>\n",
       "<table border=\"1\" class=\"dataframe\">\n",
       "  <thead>\n",
       "    <tr style=\"text-align: right;\">\n",
       "      <th></th>\n",
       "      <th>MODELYEAR</th>\n",
       "      <th>MAKE</th>\n",
       "      <th>MODEL</th>\n",
       "      <th>VEHICLECLASS</th>\n",
       "      <th>ENGINESIZE</th>\n",
       "      <th>CYLINDERS</th>\n",
       "      <th>TRANSMISSION</th>\n",
       "      <th>FUELTYPE</th>\n",
       "      <th>FUELCONSUMPTION_CITY</th>\n",
       "      <th>FUELCONSUMPTION_HWY</th>\n",
       "      <th>FUELCONSUMPTION_COMB</th>\n",
       "      <th>FUELCONSUMPTION_COMB_MPG</th>\n",
       "      <th>CO2EMISSIONS</th>\n",
       "    </tr>\n",
       "  </thead>\n",
       "  <tbody>\n",
       "    <tr>\n",
       "      <th>0</th>\n",
       "      <td>2014</td>\n",
       "      <td>ACURA</td>\n",
       "      <td>ILX</td>\n",
       "      <td>COMPACT</td>\n",
       "      <td>2.0</td>\n",
       "      <td>4</td>\n",
       "      <td>AS5</td>\n",
       "      <td>Z</td>\n",
       "      <td>9.9</td>\n",
       "      <td>6.7</td>\n",
       "      <td>8.5</td>\n",
       "      <td>33</td>\n",
       "      <td>196</td>\n",
       "    </tr>\n",
       "    <tr>\n",
       "      <th>1</th>\n",
       "      <td>2014</td>\n",
       "      <td>ACURA</td>\n",
       "      <td>ILX</td>\n",
       "      <td>COMPACT</td>\n",
       "      <td>2.4</td>\n",
       "      <td>4</td>\n",
       "      <td>M6</td>\n",
       "      <td>Z</td>\n",
       "      <td>11.2</td>\n",
       "      <td>7.7</td>\n",
       "      <td>9.6</td>\n",
       "      <td>29</td>\n",
       "      <td>221</td>\n",
       "    </tr>\n",
       "    <tr>\n",
       "      <th>2</th>\n",
       "      <td>2014</td>\n",
       "      <td>ACURA</td>\n",
       "      <td>ILX HYBRID</td>\n",
       "      <td>COMPACT</td>\n",
       "      <td>1.5</td>\n",
       "      <td>4</td>\n",
       "      <td>AV7</td>\n",
       "      <td>Z</td>\n",
       "      <td>6.0</td>\n",
       "      <td>5.8</td>\n",
       "      <td>5.9</td>\n",
       "      <td>48</td>\n",
       "      <td>136</td>\n",
       "    </tr>\n",
       "    <tr>\n",
       "      <th>3</th>\n",
       "      <td>2014</td>\n",
       "      <td>ACURA</td>\n",
       "      <td>MDX 4WD</td>\n",
       "      <td>SUV - SMALL</td>\n",
       "      <td>3.5</td>\n",
       "      <td>6</td>\n",
       "      <td>AS6</td>\n",
       "      <td>Z</td>\n",
       "      <td>12.7</td>\n",
       "      <td>9.1</td>\n",
       "      <td>11.1</td>\n",
       "      <td>25</td>\n",
       "      <td>255</td>\n",
       "    </tr>\n",
       "    <tr>\n",
       "      <th>4</th>\n",
       "      <td>2014</td>\n",
       "      <td>ACURA</td>\n",
       "      <td>RDX AWD</td>\n",
       "      <td>SUV - SMALL</td>\n",
       "      <td>3.5</td>\n",
       "      <td>6</td>\n",
       "      <td>AS6</td>\n",
       "      <td>Z</td>\n",
       "      <td>12.1</td>\n",
       "      <td>8.7</td>\n",
       "      <td>10.6</td>\n",
       "      <td>27</td>\n",
       "      <td>244</td>\n",
       "    </tr>\n",
       "  </tbody>\n",
       "</table>\n",
       "</div>"
      ],
      "text/plain": [
       "   MODELYEAR   MAKE       MODEL VEHICLECLASS  ENGINESIZE  CYLINDERS  \\\n",
       "0       2014  ACURA         ILX      COMPACT         2.0          4   \n",
       "1       2014  ACURA         ILX      COMPACT         2.4          4   \n",
       "2       2014  ACURA  ILX HYBRID      COMPACT         1.5          4   \n",
       "3       2014  ACURA     MDX 4WD  SUV - SMALL         3.5          6   \n",
       "4       2014  ACURA     RDX AWD  SUV - SMALL         3.5          6   \n",
       "\n",
       "  TRANSMISSION FUELTYPE  FUELCONSUMPTION_CITY  FUELCONSUMPTION_HWY  \\\n",
       "0          AS5        Z                   9.9                  6.7   \n",
       "1           M6        Z                  11.2                  7.7   \n",
       "2          AV7        Z                   6.0                  5.8   \n",
       "3          AS6        Z                  12.7                  9.1   \n",
       "4          AS6        Z                  12.1                  8.7   \n",
       "\n",
       "   FUELCONSUMPTION_COMB  FUELCONSUMPTION_COMB_MPG  CO2EMISSIONS  \n",
       "0                   8.5                        33           196  \n",
       "1                   9.6                        29           221  \n",
       "2                   5.9                        48           136  \n",
       "3                  11.1                        25           255  \n",
       "4                  10.6                        27           244  "
      ]
     },
     "execution_count": 3,
     "metadata": {},
     "output_type": "execute_result"
    }
   ],
   "source": [
    "df = pd.read_csv(\"FuelConsumption.csv\")\n",
    "\n",
    "df.head()"
   ]
  },
  {
   "cell_type": "code",
   "execution_count": 4,
   "id": "ef952061",
   "metadata": {
    "execution": {
     "iopub.execute_input": "2022-02-27T23:44:25.656593Z",
     "iopub.status.busy": "2022-02-27T23:44:25.655889Z",
     "iopub.status.idle": "2022-02-27T23:44:25.691293Z",
     "shell.execute_reply": "2022-02-27T23:44:25.690552Z",
     "shell.execute_reply.started": "2022-02-27T23:43:48.949218Z"
    },
    "papermill": {
     "duration": 0.073818,
     "end_time": "2022-02-27T23:44:25.691447",
     "exception": false,
     "start_time": "2022-02-27T23:44:25.617629",
     "status": "completed"
    },
    "tags": []
   },
   "outputs": [
    {
     "data": {
      "text/html": [
       "<div>\n",
       "<style scoped>\n",
       "    .dataframe tbody tr th:only-of-type {\n",
       "        vertical-align: middle;\n",
       "    }\n",
       "\n",
       "    .dataframe tbody tr th {\n",
       "        vertical-align: top;\n",
       "    }\n",
       "\n",
       "    .dataframe thead th {\n",
       "        text-align: right;\n",
       "    }\n",
       "</style>\n",
       "<table border=\"1\" class=\"dataframe\">\n",
       "  <thead>\n",
       "    <tr style=\"text-align: right;\">\n",
       "      <th></th>\n",
       "      <th>MODELYEAR</th>\n",
       "      <th>ENGINESIZE</th>\n",
       "      <th>CYLINDERS</th>\n",
       "      <th>FUELCONSUMPTION_CITY</th>\n",
       "      <th>FUELCONSUMPTION_HWY</th>\n",
       "      <th>FUELCONSUMPTION_COMB</th>\n",
       "      <th>FUELCONSUMPTION_COMB_MPG</th>\n",
       "      <th>CO2EMISSIONS</th>\n",
       "    </tr>\n",
       "  </thead>\n",
       "  <tbody>\n",
       "    <tr>\n",
       "      <th>count</th>\n",
       "      <td>1067.0</td>\n",
       "      <td>1067.000000</td>\n",
       "      <td>1067.000000</td>\n",
       "      <td>1067.000000</td>\n",
       "      <td>1067.000000</td>\n",
       "      <td>1067.000000</td>\n",
       "      <td>1067.000000</td>\n",
       "      <td>1067.000000</td>\n",
       "    </tr>\n",
       "    <tr>\n",
       "      <th>mean</th>\n",
       "      <td>2014.0</td>\n",
       "      <td>3.346298</td>\n",
       "      <td>5.794752</td>\n",
       "      <td>13.296532</td>\n",
       "      <td>9.474602</td>\n",
       "      <td>11.580881</td>\n",
       "      <td>26.441425</td>\n",
       "      <td>256.228679</td>\n",
       "    </tr>\n",
       "    <tr>\n",
       "      <th>std</th>\n",
       "      <td>0.0</td>\n",
       "      <td>1.415895</td>\n",
       "      <td>1.797447</td>\n",
       "      <td>4.101253</td>\n",
       "      <td>2.794510</td>\n",
       "      <td>3.485595</td>\n",
       "      <td>7.468702</td>\n",
       "      <td>63.372304</td>\n",
       "    </tr>\n",
       "    <tr>\n",
       "      <th>min</th>\n",
       "      <td>2014.0</td>\n",
       "      <td>1.000000</td>\n",
       "      <td>3.000000</td>\n",
       "      <td>4.600000</td>\n",
       "      <td>4.900000</td>\n",
       "      <td>4.700000</td>\n",
       "      <td>11.000000</td>\n",
       "      <td>108.000000</td>\n",
       "    </tr>\n",
       "    <tr>\n",
       "      <th>25%</th>\n",
       "      <td>2014.0</td>\n",
       "      <td>2.000000</td>\n",
       "      <td>4.000000</td>\n",
       "      <td>10.250000</td>\n",
       "      <td>7.500000</td>\n",
       "      <td>9.000000</td>\n",
       "      <td>21.000000</td>\n",
       "      <td>207.000000</td>\n",
       "    </tr>\n",
       "    <tr>\n",
       "      <th>50%</th>\n",
       "      <td>2014.0</td>\n",
       "      <td>3.400000</td>\n",
       "      <td>6.000000</td>\n",
       "      <td>12.600000</td>\n",
       "      <td>8.800000</td>\n",
       "      <td>10.900000</td>\n",
       "      <td>26.000000</td>\n",
       "      <td>251.000000</td>\n",
       "    </tr>\n",
       "    <tr>\n",
       "      <th>75%</th>\n",
       "      <td>2014.0</td>\n",
       "      <td>4.300000</td>\n",
       "      <td>8.000000</td>\n",
       "      <td>15.550000</td>\n",
       "      <td>10.850000</td>\n",
       "      <td>13.350000</td>\n",
       "      <td>31.000000</td>\n",
       "      <td>294.000000</td>\n",
       "    </tr>\n",
       "    <tr>\n",
       "      <th>max</th>\n",
       "      <td>2014.0</td>\n",
       "      <td>8.400000</td>\n",
       "      <td>12.000000</td>\n",
       "      <td>30.200000</td>\n",
       "      <td>20.500000</td>\n",
       "      <td>25.800000</td>\n",
       "      <td>60.000000</td>\n",
       "      <td>488.000000</td>\n",
       "    </tr>\n",
       "  </tbody>\n",
       "</table>\n",
       "</div>"
      ],
      "text/plain": [
       "       MODELYEAR   ENGINESIZE    CYLINDERS  FUELCONSUMPTION_CITY  \\\n",
       "count     1067.0  1067.000000  1067.000000           1067.000000   \n",
       "mean      2014.0     3.346298     5.794752             13.296532   \n",
       "std          0.0     1.415895     1.797447              4.101253   \n",
       "min       2014.0     1.000000     3.000000              4.600000   \n",
       "25%       2014.0     2.000000     4.000000             10.250000   \n",
       "50%       2014.0     3.400000     6.000000             12.600000   \n",
       "75%       2014.0     4.300000     8.000000             15.550000   \n",
       "max       2014.0     8.400000    12.000000             30.200000   \n",
       "\n",
       "       FUELCONSUMPTION_HWY  FUELCONSUMPTION_COMB  FUELCONSUMPTION_COMB_MPG  \\\n",
       "count          1067.000000           1067.000000               1067.000000   \n",
       "mean              9.474602             11.580881                 26.441425   \n",
       "std               2.794510              3.485595                  7.468702   \n",
       "min               4.900000              4.700000                 11.000000   \n",
       "25%               7.500000              9.000000                 21.000000   \n",
       "50%               8.800000             10.900000                 26.000000   \n",
       "75%              10.850000             13.350000                 31.000000   \n",
       "max              20.500000             25.800000                 60.000000   \n",
       "\n",
       "       CO2EMISSIONS  \n",
       "count   1067.000000  \n",
       "mean     256.228679  \n",
       "std       63.372304  \n",
       "min      108.000000  \n",
       "25%      207.000000  \n",
       "50%      251.000000  \n",
       "75%      294.000000  \n",
       "max      488.000000  "
      ]
     },
     "execution_count": 4,
     "metadata": {},
     "output_type": "execute_result"
    }
   ],
   "source": [
    "df.describe()"
   ]
  },
  {
   "cell_type": "code",
   "execution_count": 5,
   "id": "95bc4709",
   "metadata": {
    "execution": {
     "iopub.execute_input": "2022-02-27T23:44:25.766430Z",
     "iopub.status.busy": "2022-02-27T23:44:25.765692Z",
     "iopub.status.idle": "2022-02-27T23:44:25.770020Z",
     "shell.execute_reply": "2022-02-27T23:44:25.769401Z",
     "shell.execute_reply.started": "2022-02-27T23:43:48.988792Z"
    },
    "papermill": {
     "duration": 0.048017,
     "end_time": "2022-02-27T23:44:25.770156",
     "exception": false,
     "start_time": "2022-02-27T23:44:25.722139",
     "status": "completed"
    },
    "tags": []
   },
   "outputs": [
    {
     "data": {
      "text/html": [
       "<div>\n",
       "<style scoped>\n",
       "    .dataframe tbody tr th:only-of-type {\n",
       "        vertical-align: middle;\n",
       "    }\n",
       "\n",
       "    .dataframe tbody tr th {\n",
       "        vertical-align: top;\n",
       "    }\n",
       "\n",
       "    .dataframe thead th {\n",
       "        text-align: right;\n",
       "    }\n",
       "</style>\n",
       "<table border=\"1\" class=\"dataframe\">\n",
       "  <thead>\n",
       "    <tr style=\"text-align: right;\">\n",
       "      <th></th>\n",
       "      <th>ENGINESIZE</th>\n",
       "      <th>CYLINDERS</th>\n",
       "      <th>FUELCONSUMPTION_COMB</th>\n",
       "      <th>CO2EMISSIONS</th>\n",
       "    </tr>\n",
       "  </thead>\n",
       "  <tbody>\n",
       "    <tr>\n",
       "      <th>0</th>\n",
       "      <td>2.0</td>\n",
       "      <td>4</td>\n",
       "      <td>8.5</td>\n",
       "      <td>196</td>\n",
       "    </tr>\n",
       "    <tr>\n",
       "      <th>1</th>\n",
       "      <td>2.4</td>\n",
       "      <td>4</td>\n",
       "      <td>9.6</td>\n",
       "      <td>221</td>\n",
       "    </tr>\n",
       "    <tr>\n",
       "      <th>2</th>\n",
       "      <td>1.5</td>\n",
       "      <td>4</td>\n",
       "      <td>5.9</td>\n",
       "      <td>136</td>\n",
       "    </tr>\n",
       "    <tr>\n",
       "      <th>3</th>\n",
       "      <td>3.5</td>\n",
       "      <td>6</td>\n",
       "      <td>11.1</td>\n",
       "      <td>255</td>\n",
       "    </tr>\n",
       "    <tr>\n",
       "      <th>4</th>\n",
       "      <td>3.5</td>\n",
       "      <td>6</td>\n",
       "      <td>10.6</td>\n",
       "      <td>244</td>\n",
       "    </tr>\n",
       "    <tr>\n",
       "      <th>5</th>\n",
       "      <td>3.5</td>\n",
       "      <td>6</td>\n",
       "      <td>10.0</td>\n",
       "      <td>230</td>\n",
       "    </tr>\n",
       "    <tr>\n",
       "      <th>6</th>\n",
       "      <td>3.5</td>\n",
       "      <td>6</td>\n",
       "      <td>10.1</td>\n",
       "      <td>232</td>\n",
       "    </tr>\n",
       "    <tr>\n",
       "      <th>7</th>\n",
       "      <td>3.7</td>\n",
       "      <td>6</td>\n",
       "      <td>11.1</td>\n",
       "      <td>255</td>\n",
       "    </tr>\n",
       "    <tr>\n",
       "      <th>8</th>\n",
       "      <td>3.7</td>\n",
       "      <td>6</td>\n",
       "      <td>11.6</td>\n",
       "      <td>267</td>\n",
       "    </tr>\n",
       "  </tbody>\n",
       "</table>\n",
       "</div>"
      ],
      "text/plain": [
       "   ENGINESIZE  CYLINDERS  FUELCONSUMPTION_COMB  CO2EMISSIONS\n",
       "0         2.0          4                   8.5           196\n",
       "1         2.4          4                   9.6           221\n",
       "2         1.5          4                   5.9           136\n",
       "3         3.5          6                  11.1           255\n",
       "4         3.5          6                  10.6           244\n",
       "5         3.5          6                  10.0           230\n",
       "6         3.5          6                  10.1           232\n",
       "7         3.7          6                  11.1           255\n",
       "8         3.7          6                  11.6           267"
      ]
     },
     "execution_count": 5,
     "metadata": {},
     "output_type": "execute_result"
    }
   ],
   "source": [
    "cdf = df[['ENGINESIZE','CYLINDERS','FUELCONSUMPTION_COMB','CO2EMISSIONS']]\n",
    "cdf.head(9)"
   ]
  },
  {
   "cell_type": "code",
   "execution_count": 6,
   "id": "b0b4deae",
   "metadata": {
    "execution": {
     "iopub.execute_input": "2022-02-27T23:44:25.837298Z",
     "iopub.status.busy": "2022-02-27T23:44:25.836639Z",
     "iopub.status.idle": "2022-02-27T23:44:25.839666Z",
     "shell.execute_reply": "2022-02-27T23:44:25.839138Z",
     "shell.execute_reply.started": "2022-02-27T23:43:49.004551Z"
    },
    "papermill": {
     "duration": 0.039373,
     "end_time": "2022-02-27T23:44:25.839799",
     "exception": false,
     "start_time": "2022-02-27T23:44:25.800426",
     "status": "completed"
    },
    "tags": []
   },
   "outputs": [],
   "source": [
    "import warnings # to remove all future warnings\n",
    "warnings.simplefilter(action=\"ignore\", category=FutureWarning)"
   ]
  },
  {
   "cell_type": "code",
   "execution_count": 7,
   "id": "b97f415b",
   "metadata": {
    "execution": {
     "iopub.execute_input": "2022-02-27T23:44:25.906289Z",
     "iopub.status.busy": "2022-02-27T23:44:25.905590Z",
     "iopub.status.idle": "2022-02-27T23:44:26.394640Z",
     "shell.execute_reply": "2022-02-27T23:44:26.394086Z",
     "shell.execute_reply.started": "2022-02-27T23:43:49.012080Z"
    },
    "papermill": {
     "duration": 0.524793,
     "end_time": "2022-02-27T23:44:26.394782",
     "exception": false,
     "start_time": "2022-02-27T23:44:25.869989",
     "status": "completed"
    },
    "tags": []
   },
   "outputs": [
    {
     "data": {
      "image/png": "[encoded data removed]",
      "text/plain": [
       "<Figure size 432x288 with 4 Axes>"
      ]
     },
     "metadata": {
      "needs_background": "light"
     },
     "output_type": "display_data"
    }
   ],
   "source": [
    "viz = cdf[['CYLINDERS','ENGINESIZE','CO2EMISSIONS','FUELCONSUMPTION_COMB']]\n",
    "viz.hist()\n",
    "plt.show()"
   ]
  },
  {
   "cell_type": "code",
   "execution_count": 8,
   "id": "8f48cfb1",
   "metadata": {
    "execution": {
     "iopub.execute_input": "2022-02-27T23:44:26.470503Z",
     "iopub.status.busy": "2022-02-27T23:44:26.463696Z",
     "iopub.status.idle": "2022-02-27T23:44:26.661860Z",
     "shell.execute_reply": "2022-02-27T23:44:26.661313Z",
     "shell.execute_reply.started": "2022-02-27T23:43:49.630380Z"
    },
    "papermill": {
     "duration": 0.235585,
     "end_time": "2022-02-27T23:44:26.662017",
     "exception": false,
     "start_time": "2022-02-27T23:44:26.426432",
     "status": "completed"
    },
    "tags": []
   },
   "outputs": [
    {
     "data": {
      "image/png": "[encoded data removed]",
      "text/plain": [
       "<Figure size 432x288 with 1 Axes>"
      ]
     },
     "metadata": {
      "needs_background": "light"
     },
     "output_type": "display_data"
    }
   ],
   "source": [
    "plt.scatter(cdf.FUELCONSUMPTION_COMB, cdf.CO2EMISSIONS,  color='red')\n",
    "plt.xlabel(\"FUELCONSUMPTION_COMB\")\n",
    "plt.ylabel(\"Emission\")\n",
    "plt.show()"
   ]
  },
  {
   "cell_type": "code",
   "execution_count": 9,
   "id": "becaf9a3",
   "metadata": {
    "execution": {
     "iopub.execute_input": "2022-02-27T23:44:26.736623Z",
     "iopub.status.busy": "2022-02-27T23:44:26.735890Z",
     "iopub.status.idle": "2022-02-27T23:44:26.739740Z",
     "shell.execute_reply": "2022-02-27T23:44:26.739201Z",
     "shell.execute_reply.started": "2022-02-27T23:43:49.829433Z"
    },
    "papermill": {
     "duration": 0.044417,
     "end_time": "2022-02-27T23:44:26.739869",
     "exception": false,
     "start_time": "2022-02-27T23:44:26.695452",
     "status": "completed"
    },
    "tags": []
   },
   "outputs": [
    {
     "data": {
      "text/plain": [
       "MODELYEAR                   0\n",
       "MAKE                        0\n",
       "MODEL                       0\n",
       "VEHICLECLASS                0\n",
       "ENGINESIZE                  0\n",
       "CYLINDERS                   0\n",
       "TRANSMISSION                0\n",
       "FUELTYPE                    0\n",
       "FUELCONSUMPTION_CITY        0\n",
       "FUELCONSUMPTION_HWY         0\n",
       "FUELCONSUMPTION_COMB        0\n",
       "FUELCONSUMPTION_COMB_MPG    0\n",
       "CO2EMISSIONS                0\n",
       "dtype: int64"
      ]
     },
     "execution_count": 9,
     "metadata": {},
     "output_type": "execute_result"
    }
   ],
   "source": [
    "df.isna().sum()"
   ]
  },
  {
   "cell_type": "markdown",
   "id": "b9579152",
   "metadata": {
    "papermill": {
     "duration": 0.032065,
     "end_time": "2022-02-27T23:44:26.804557",
     "exception": false,
     "start_time": "2022-02-27T23:44:26.772492",
     "status": "completed"
    },
    "tags": []
   },
   "source": [
    "\n",
    "# Simple Linear Regression Trail 1\n",
    "where dependant Variable is CO2EMISSIONS and Independant Variable is ENGINESIZE."
   ]
  },
  {
   "cell_type": "code",
   "execution_count": 10,
   "id": "372153cb",
   "metadata": {
    "execution": {
     "iopub.execute_input": "2022-02-27T23:44:26.874047Z",
     "iopub.status.busy": "2022-02-27T23:44:26.873067Z",
     "iopub.status.idle": "2022-02-27T23:44:26.878239Z",
     "shell.execute_reply": "2022-02-27T23:44:26.878704Z",
     "shell.execute_reply.started": "2022-02-27T23:43:49.840791Z"
    },
    "papermill": {
     "duration": 0.041898,
     "end_time": "2022-02-27T23:44:26.878873",
     "exception": false,
     "start_time": "2022-02-27T23:44:26.836975",
     "status": "completed"
    },
    "tags": []
   },
   "outputs": [],
   "source": [
    "#splitting the data\n",
    "msk = np.random.rand(len(df)) < 0.8\n",
    "train = cdf[msk]\n",
    "test = cdf[~msk]"
   ]
  },
  {
   "cell_type": "code",
   "execution_count": 11,
   "id": "1ca58c21",
   "metadata": {
    "execution": {
     "iopub.execute_input": "2022-02-27T23:44:26.947796Z",
     "iopub.status.busy": "2022-02-27T23:44:26.946792Z",
     "iopub.status.idle": "2022-02-27T23:44:27.107312Z",
     "shell.execute_reply": "2022-02-27T23:44:27.106614Z",
     "shell.execute_reply.started": "2022-02-27T23:43:49.852570Z"
    },
    "papermill": {
     "duration": 0.195949,
     "end_time": "2022-02-27T23:44:27.107455",
     "exception": false,
     "start_time": "2022-02-27T23:44:26.911506",
     "status": "completed"
    },
    "tags": []
   },
   "outputs": [
    {
     "data": {
      "image/png": "[encoded data removed]",
      "text/plain": [
       "<Figure size 432x288 with 1 Axes>"
      ]
     },
     "metadata": {
      "needs_background": "light"
     },
     "output_type": "display_data"
    }
   ],
   "source": [
    "plt.scatter(train.ENGINESIZE, train.CO2EMISSIONS,  color='green')\n",
    "plt.xlabel(\"Engine size\")\n",
    "plt.ylabel(\"Emission\")\n",
    "plt.show()"
   ]
  },
  {
   "cell_type": "code",
   "execution_count": 12,
   "id": "d5488c07",
   "metadata": {
    "execution": {
     "iopub.execute_input": "2022-02-27T23:44:27.181632Z",
     "iopub.status.busy": "2022-02-27T23:44:27.180811Z",
     "iopub.status.idle": "2022-02-27T23:44:27.432825Z",
     "shell.execute_reply": "2022-02-27T23:44:27.432211Z",
     "shell.execute_reply.started": "2022-02-27T23:43:50.029376Z"
    },
    "papermill": {
     "duration": 0.291746,
     "end_time": "2022-02-27T23:44:27.432997",
     "exception": false,
     "start_time": "2022-02-27T23:44:27.141251",
     "status": "completed"
    },
    "tags": []
   },
   "outputs": [
    {
     "name": "stdout",
     "output_type": "stream",
     "text": [
      "Coefficients:  [[38.63904209]]\n",
      "Intercept:  [126.45586319]\n"
     ]
    }
   ],
   "source": [
    "from sklearn import linear_model\n",
    "regr = linear_model.LinearRegression()\n",
    "train_x = np.asanyarray(train[['ENGINESIZE']])\n",
    "train_y = np.asanyarray(train[['CO2EMISSIONS']])\n",
    "regr.fit(train_x, train_y)\n",
    "# The coefficients\n",
    "print ('Coefficients: ', regr.coef_)\n",
    "print ('Intercept: ',regr.intercept_)"
   ]
  },
  {
   "cell_type": "code",
   "execution_count": 13,
   "id": "bf4aaffd",
   "metadata": {
    "execution": {
     "iopub.execute_input": "2022-02-27T23:44:27.508601Z",
     "iopub.status.busy": "2022-02-27T23:44:27.507900Z",
     "iopub.status.idle": "2022-02-27T23:44:27.695542Z",
     "shell.execute_reply": "2022-02-27T23:44:27.696049Z",
     "shell.execute_reply.started": "2022-02-27T23:43:50.044129Z"
    },
    "papermill": {
     "duration": 0.228384,
     "end_time": "2022-02-27T23:44:27.696255",
     "exception": false,
     "start_time": "2022-02-27T23:44:27.467871",
     "status": "completed"
    },
    "tags": []
   },
   "outputs": [
    {
     "data": {
      "text/plain": [
       "Text(0, 0.5, 'Emission')"
      ]
     },
     "execution_count": 13,
     "metadata": {},
     "output_type": "execute_result"
    },
    {
     "data": {
      "image/png": "[encoded data removed]",
      "text/plain": [
       "<Figure size 432x288 with 1 Axes>"
      ]
     },
     "metadata": {
      "needs_background": "light"
     },
     "output_type": "display_data"
    }
   ],
   "source": [
    "#i dont know why we need to use [0]\n",
    "plt.scatter(train.ENGINESIZE, train.CO2EMISSIONS,  color='blue')\n",
    "plt.plot(train_x, regr.coef_[0][0]*train_x + regr.intercept_[0], 'black')\n",
    "plt.xlabel(\"Engine size\")\n",
    "plt.ylabel(\"Emission\")"
   ]
  },
  {
   "cell_type": "code",
   "execution_count": 14,
   "id": "f65443e7",
   "metadata": {
    "execution": {
     "iopub.execute_input": "2022-02-27T23:44:27.772517Z",
     "iopub.status.busy": "2022-02-27T23:44:27.771824Z",
     "iopub.status.idle": "2022-02-27T23:44:27.780935Z",
     "shell.execute_reply": "2022-02-27T23:44:27.781793Z",
     "shell.execute_reply.started": "2022-02-27T23:43:50.289024Z"
    },
    "papermill": {
     "duration": 0.049663,
     "end_time": "2022-02-27T23:44:27.782018",
     "exception": false,
     "start_time": "2022-02-27T23:44:27.732355",
     "status": "completed"
    },
    "tags": []
   },
   "outputs": [
    {
     "name": "stdout",
     "output_type": "stream",
     "text": [
      "Mean absolute error: 25.28\n",
      "Residual sum of squares (MSE): 1117.40\n",
      "R2-score: 0.74\n"
     ]
    }
   ],
   "source": [
    "from sklearn.metrics import r2_score\n",
    "\n",
    "test_x = np.asanyarray(test[['ENGINESIZE']])\n",
    "test_y = np.asanyarray(test[['CO2EMISSIONS']])\n",
    "pre_y = regr.predict(test_x)\n",
    "\n",
    "print(\"Mean absolute error: %.2f\" % np.mean(np.absolute(pre_y - test_y)))\n",
    "print(\"Residual sum of squares (MSE): %.2f\" % np.mean((pre_y - test_y) ** 2))\n",
    "print(\"R2-score: %.2f\" % r2_score(test_y , pre_y) )"
   ]
  },
  {
   "cell_type": "markdown",
   "id": "b97904cb",
   "metadata": {
    "papermill": {
     "duration": 0.035547,
     "end_time": "2022-02-27T23:44:27.855457",
     "exception": false,
     "start_time": "2022-02-27T23:44:27.819910",
     "status": "completed"
    },
    "tags": []
   },
   "source": [
    "# Simple Linear Regression Trail 2\n",
    "where dependant Variable is CO2EMISSIONS and Independant Variable is FuelConsumption."
   ]
  },
  {
   "cell_type": "code",
   "execution_count": 15,
   "id": "eec21cce",
   "metadata": {
    "execution": {
     "iopub.execute_input": "2022-02-27T23:44:27.933640Z",
     "iopub.status.busy": "2022-02-27T23:44:27.932975Z",
     "iopub.status.idle": "2022-02-27T23:44:27.935404Z",
     "shell.execute_reply": "2022-02-27T23:44:27.934863Z",
     "shell.execute_reply.started": "2022-02-27T23:43:50.302061Z"
    },
    "papermill": {
     "duration": 0.044105,
     "end_time": "2022-02-27T23:44:27.935540",
     "exception": false,
     "start_time": "2022-02-27T23:44:27.891435",
     "status": "completed"
    },
    "tags": []
   },
   "outputs": [],
   "source": [
    "train_x_2 = train[['FUELCONSUMPTION_COMB']]\n",
    "\n",
    "test_x_2 = test[['FUELCONSUMPTION_COMB']]"
   ]
  },
  {
   "cell_type": "code",
   "execution_count": 16,
   "id": "91852ea3",
   "metadata": {
    "execution": {
     "iopub.execute_input": "2022-02-27T23:44:28.010975Z",
     "iopub.status.busy": "2022-02-27T23:44:28.010351Z",
     "iopub.status.idle": "2022-02-27T23:44:28.020243Z",
     "shell.execute_reply": "2022-02-27T23:44:28.020752Z",
     "shell.execute_reply.started": "2022-02-27T23:43:50.314270Z"
    },
    "papermill": {
     "duration": 0.049511,
     "end_time": "2022-02-27T23:44:28.020913",
     "exception": false,
     "start_time": "2022-02-27T23:44:27.971402",
     "status": "completed"
    },
    "tags": []
   },
   "outputs": [
    {
     "name": "stdout",
     "output_type": "stream",
     "text": [
      "Coefficients:  [[16.0354872]]\n",
      "Intercept:  [70.16515211]\n"
     ]
    }
   ],
   "source": [
    "regr = linear_model.LinearRegression()\n",
    "regr.fit(train_x_2, train_y)\n",
    "pre_y_2 =regr.predict(test_x_2)\n",
    "# The coefficients\n",
    "print ('Coefficients: ', regr.coef_)\n",
    "print ('Intercept: ',regr.intercept_)\n"
   ]
  },
  {
   "cell_type": "code",
   "execution_count": 17,
   "id": "4df10b10",
   "metadata": {
    "execution": {
     "iopub.execute_input": "2022-02-27T23:44:28.096027Z",
     "iopub.status.busy": "2022-02-27T23:44:28.095415Z",
     "iopub.status.idle": "2022-02-27T23:44:28.102861Z",
     "shell.execute_reply": "2022-02-27T23:44:28.102346Z",
     "shell.execute_reply.started": "2022-02-27T23:43:50.329978Z"
    },
    "papermill": {
     "duration": 0.046098,
     "end_time": "2022-02-27T23:44:28.103008",
     "exception": false,
     "start_time": "2022-02-27T23:44:28.056910",
     "status": "completed"
    },
    "tags": []
   },
   "outputs": [
    {
     "name": "stdout",
     "output_type": "stream",
     "text": [
      "Mean absolute error: 25.28\n",
      "Residual sum of squares (MSE): 676.09\n",
      "R2-score: 0.84\n"
     ]
    }
   ],
   "source": [
    "print(\"Mean absolute error: %.2f\" % np.mean(np.absolute(pre_y - test_y)))\n",
    "print(\"Residual sum of squares (MSE): %.2f\" % np.mean((pre_y_2 - test_y) ** 2))\n",
    "print(\"R2-score: %.2f\" % r2_score(test_y , pre_y_2) )"
   ]
  },
  {
   "cell_type": "markdown",
   "id": "c3aa5bb8",
   "metadata": {
    "papermill": {
     "duration": 0.036669,
     "end_time": "2022-02-27T23:44:28.177730",
     "exception": false,
     "start_time": "2022-02-27T23:44:28.141061",
     "status": "completed"
    },
    "tags": []
   },
   "source": [
    "# **-----------------------------------------**"
   ]
  },
  {
   "cell_type": "markdown",
   "id": "c6fcb6a8",
   "metadata": {
    "papermill": {
     "duration": 0.036102,
     "end_time": "2022-02-27T23:44:28.250417",
     "exception": false,
     "start_time": "2022-02-27T23:44:28.214315",
     "status": "completed"
    },
    "tags": []
   },
   "source": [
    "# **Multiple Regression Model:**\n",
    "\n",
    "Calculating CO2EMISSIONS based on multiple variables."
   ]
  },
  {
   "cell_type": "code",
   "execution_count": 18,
   "id": "2ac3d3bb",
   "metadata": {
    "execution": {
     "iopub.execute_input": "2022-02-27T23:44:28.339248Z",
     "iopub.status.busy": "2022-02-27T23:44:28.326410Z",
     "iopub.status.idle": "2022-02-27T23:44:28.341520Z",
     "shell.execute_reply": "2022-02-27T23:44:28.342047Z",
     "shell.execute_reply.started": "2022-02-27T23:43:50.341912Z"
    },
    "papermill": {
     "duration": 0.055474,
     "end_time": "2022-02-27T23:44:28.342213",
     "exception": false,
     "start_time": "2022-02-27T23:44:28.286739",
     "status": "completed"
    },
    "tags": []
   },
   "outputs": [
    {
     "data": {
      "text/html": [
       "<div>\n",
       "<style scoped>\n",
       "    .dataframe tbody tr th:only-of-type {\n",
       "        vertical-align: middle;\n",
       "    }\n",
       "\n",
       "    .dataframe tbody tr th {\n",
       "        vertical-align: top;\n",
       "    }\n",
       "\n",
       "    .dataframe thead th {\n",
       "        text-align: right;\n",
       "    }\n",
       "</style>\n",
       "<table border=\"1\" class=\"dataframe\">\n",
       "  <thead>\n",
       "    <tr style=\"text-align: right;\">\n",
       "      <th></th>\n",
       "      <th>ENGINESIZE</th>\n",
       "      <th>CYLINDERS</th>\n",
       "      <th>FUELCONSUMPTION_CITY</th>\n",
       "      <th>FUELCONSUMPTION_HWY</th>\n",
       "      <th>FUELCONSUMPTION_COMB</th>\n",
       "      <th>CO2EMISSIONS</th>\n",
       "    </tr>\n",
       "  </thead>\n",
       "  <tbody>\n",
       "    <tr>\n",
       "      <th>0</th>\n",
       "      <td>2.0</td>\n",
       "      <td>4</td>\n",
       "      <td>9.9</td>\n",
       "      <td>6.7</td>\n",
       "      <td>8.5</td>\n",
       "      <td>196</td>\n",
       "    </tr>\n",
       "    <tr>\n",
       "      <th>1</th>\n",
       "      <td>2.4</td>\n",
       "      <td>4</td>\n",
       "      <td>11.2</td>\n",
       "      <td>7.7</td>\n",
       "      <td>9.6</td>\n",
       "      <td>221</td>\n",
       "    </tr>\n",
       "    <tr>\n",
       "      <th>2</th>\n",
       "      <td>1.5</td>\n",
       "      <td>4</td>\n",
       "      <td>6.0</td>\n",
       "      <td>5.8</td>\n",
       "      <td>5.9</td>\n",
       "      <td>136</td>\n",
       "    </tr>\n",
       "    <tr>\n",
       "      <th>3</th>\n",
       "      <td>3.5</td>\n",
       "      <td>6</td>\n",
       "      <td>12.7</td>\n",
       "      <td>9.1</td>\n",
       "      <td>11.1</td>\n",
       "      <td>255</td>\n",
       "    </tr>\n",
       "    <tr>\n",
       "      <th>4</th>\n",
       "      <td>3.5</td>\n",
       "      <td>6</td>\n",
       "      <td>12.1</td>\n",
       "      <td>8.7</td>\n",
       "      <td>10.6</td>\n",
       "      <td>244</td>\n",
       "    </tr>\n",
       "    <tr>\n",
       "      <th>5</th>\n",
       "      <td>3.5</td>\n",
       "      <td>6</td>\n",
       "      <td>11.9</td>\n",
       "      <td>7.7</td>\n",
       "      <td>10.0</td>\n",
       "      <td>230</td>\n",
       "    </tr>\n",
       "    <tr>\n",
       "      <th>6</th>\n",
       "      <td>3.5</td>\n",
       "      <td>6</td>\n",
       "      <td>11.8</td>\n",
       "      <td>8.1</td>\n",
       "      <td>10.1</td>\n",
       "      <td>232</td>\n",
       "    </tr>\n",
       "    <tr>\n",
       "      <th>7</th>\n",
       "      <td>3.7</td>\n",
       "      <td>6</td>\n",
       "      <td>12.8</td>\n",
       "      <td>9.0</td>\n",
       "      <td>11.1</td>\n",
       "      <td>255</td>\n",
       "    </tr>\n",
       "    <tr>\n",
       "      <th>8</th>\n",
       "      <td>3.7</td>\n",
       "      <td>6</td>\n",
       "      <td>13.4</td>\n",
       "      <td>9.5</td>\n",
       "      <td>11.6</td>\n",
       "      <td>267</td>\n",
       "    </tr>\n",
       "    <tr>\n",
       "      <th>9</th>\n",
       "      <td>2.4</td>\n",
       "      <td>4</td>\n",
       "      <td>10.6</td>\n",
       "      <td>7.5</td>\n",
       "      <td>9.2</td>\n",
       "      <td>212</td>\n",
       "    </tr>\n",
       "  </tbody>\n",
       "</table>\n",
       "</div>"
      ],
      "text/plain": [
       "   ENGINESIZE  CYLINDERS  FUELCONSUMPTION_CITY  FUELCONSUMPTION_HWY  \\\n",
       "0         2.0          4                   9.9                  6.7   \n",
       "1         2.4          4                  11.2                  7.7   \n",
       "2         1.5          4                   6.0                  5.8   \n",
       "3         3.5          6                  12.7                  9.1   \n",
       "4         3.5          6                  12.1                  8.7   \n",
       "5         3.5          6                  11.9                  7.7   \n",
       "6         3.5          6                  11.8                  8.1   \n",
       "7         3.7          6                  12.8                  9.0   \n",
       "8         3.7          6                  13.4                  9.5   \n",
       "9         2.4          4                  10.6                  7.5   \n",
       "\n",
       "   FUELCONSUMPTION_COMB  CO2EMISSIONS  \n",
       "0                   8.5           196  \n",
       "1                   9.6           221  \n",
       "2                   5.9           136  \n",
       "3                  11.1           255  \n",
       "4                  10.6           244  \n",
       "5                  10.0           230  \n",
       "6                  10.1           232  \n",
       "7                  11.1           255  \n",
       "8                  11.6           267  \n",
       "9                   9.2           212  "
      ]
     },
     "execution_count": 18,
     "metadata": {},
     "output_type": "execute_result"
    }
   ],
   "source": [
    "mlr = df[['ENGINESIZE','CYLINDERS','FUELCONSUMPTION_CITY','FUELCONSUMPTION_HWY','FUELCONSUMPTION_COMB','CO2EMISSIONS']]\n",
    "mlr.head(10)"
   ]
  },
  {
   "cell_type": "code",
   "execution_count": 19,
   "id": "0847da62",
   "metadata": {
    "execution": {
     "iopub.execute_input": "2022-02-27T23:44:28.430673Z",
     "iopub.status.busy": "2022-02-27T23:44:28.429011Z",
     "iopub.status.idle": "2022-02-27T23:44:28.624877Z",
     "shell.execute_reply": "2022-02-27T23:44:28.625398Z",
     "shell.execute_reply.started": "2022-02-27T23:43:50.366246Z"
    },
    "papermill": {
     "duration": 0.246133,
     "end_time": "2022-02-27T23:44:28.625563",
     "exception": false,
     "start_time": "2022-02-27T23:44:28.379430",
     "status": "completed"
    },
    "tags": []
   },
   "outputs": [
    {
     "data": {
      "image/png": "[encoded data removed]",
      "text/plain": [
       "<Figure size 432x288 with 1 Axes>"
      ]
     },
     "metadata": {
      "needs_background": "light"
     },
     "output_type": "display_data"
    }
   ],
   "source": [
    "plt.scatter(mlr.ENGINESIZE, mlr.CO2EMISSIONS,  color='blue')\n",
    "plt.xlabel(\"Engine size\")\n",
    "plt.ylabel(\"Emission\")\n",
    "plt.show()"
   ]
  },
  {
   "cell_type": "code",
   "execution_count": 20,
   "id": "f3e81621",
   "metadata": {
    "execution": {
     "iopub.execute_input": "2022-02-27T23:44:28.706124Z",
     "iopub.status.busy": "2022-02-27T23:44:28.705459Z",
     "iopub.status.idle": "2022-02-27T23:44:28.718890Z",
     "shell.execute_reply": "2022-02-27T23:44:28.718212Z",
     "shell.execute_reply.started": "2022-02-27T23:43:50.577483Z"
    },
    "papermill": {
     "duration": 0.05509,
     "end_time": "2022-02-27T23:44:28.719072",
     "exception": false,
     "start_time": "2022-02-27T23:44:28.663982",
     "status": "completed"
    },
    "tags": []
   },
   "outputs": [
    {
     "name": "stdout",
     "output_type": "stream",
     "text": [
      "Coefficients:  [[12.41737448  7.02455956  9.0208243 ]]\n"
     ]
    }
   ],
   "source": [
    "from sklearn import linear_model\n",
    "regr = linear_model.LinearRegression()\n",
    "mlr_train_x = np.asanyarray(train[['ENGINESIZE','CYLINDERS','FUELCONSUMPTION_COMB']])\n",
    "mlr_train_y = np.asanyarray(train[['CO2EMISSIONS']])\n",
    "regr.fit (mlr_train_x, mlr_train_y)\n",
    "# The coefficients\n",
    "print ('Coefficients: ', regr.coef_)"
   ]
  },
  {
   "cell_type": "code",
   "execution_count": 21,
   "id": "67dc92ee",
   "metadata": {
    "execution": {
     "iopub.execute_input": "2022-02-27T23:44:28.801939Z",
     "iopub.status.busy": "2022-02-27T23:44:28.801293Z",
     "iopub.status.idle": "2022-02-27T23:44:28.815653Z",
     "shell.execute_reply": "2022-02-27T23:44:28.815084Z",
     "shell.execute_reply.started": "2022-02-27T23:43:50.589668Z"
    },
    "papermill": {
     "duration": 0.056263,
     "end_time": "2022-02-27T23:44:28.815784",
     "exception": false,
     "start_time": "2022-02-27T23:44:28.759521",
     "status": "completed"
    },
    "tags": []
   },
   "outputs": [
    {
     "name": "stdout",
     "output_type": "stream",
     "text": [
      "Mean absolute error: 17.10\n",
      "Residual sum of squares (MSE): 550.23\n",
      "R2-score: 0.87\n",
      "Variance score: 0.87\n"
     ]
    }
   ],
   "source": [
    "y_hat= regr.predict(test[['ENGINESIZE','CYLINDERS','FUELCONSUMPTION_COMB']])\n",
    "mlr_test_x = np.asanyarray(test[['ENGINESIZE','CYLINDERS','FUELCONSUMPTION_COMB']])\n",
    "mlr_test_y = np.asanyarray(test[['CO2EMISSIONS']])\n",
    "\n",
    "\n",
    "print(\"Mean absolute error: %.2f\" % np.mean(np.absolute(y_hat - mlr_test_y)))\n",
    "print(\"Residual sum of squares (MSE): %.2f\" % np.mean((y_hat - mlr_test_y) ** 2))\n",
    "print(\"R2-score: %.2f\" % r2_score(mlr_test_y , y_hat) )\n",
    "\n",
    "# Explained variance score: 1 is perfect prediction\n",
    "print('Variance score: %.2f' % regr.score(mlr_test_x, mlr_test_y))"
   ]
  }
 ],
 "metadata": {
  "kernelspec": {
   "display_name": "Python 3",
   "language": "python",
   "name": "python3"
  },
  "language_info": {
   "codemirror_mode": {
    "name": "ipython",
    "version": 3
   },
   "file_extension": ".py",
   "mimetype": "text/x-python",
   "name": "python",
   "nbconvert_exporter": "python",
   "pygments_lexer": "ipython3",
   "version": "3.7.12"
  },
  "papermill": {
   "default_parameters": {},
   "duration": 16.557008,
   "end_time": "2022-02-27T23:44:29.566269",
   "environment_variables": {},
   "exception": null,
   "input_path": "__notebook__.ipynb",
   "output_path": "__notebook__.ipynb",
   "parameters": {},
   "start_time": "2022-02-27T23:44:13.009261",
   "version": "2.3.3"
  }
 },
 "nbformat": 4,
 "nbformat_minor": 5
}
