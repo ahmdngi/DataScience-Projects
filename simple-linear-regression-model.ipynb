{
 "cells": [
  {
   "cell_type": "markdown",
   "id": "96f9de40",
   "metadata": {
    "papermill": {
     "duration": 0.017046,
     "end_time": "2022-02-27T23:02:58.322978",
     "exception": false,
     "start_time": "2022-02-27T23:02:58.305932",
     "status": "completed"
    },
    "tags": []
   },
   "source": [
    "# **Carbon Dioxide Emissions and Fuel Consumption**:\n",
    "\n",
    "Using Simple Regression Model to predict the co2 emission of a car based on its fuel consumption."
   ]
  },
  {
   "cell_type": "code",
   "execution_count": 1,
   "id": "3c556a52",
   "metadata": {
    "_cell_guid": "b1076dfc-b9ad-4769-8c92-a6c4dae69d19",
    "_uuid": "8f2839f25d086af736a60e9eeb907d3b93b6e0e5",
    "execution": {
     "iopub.execute_input": "2022-02-27T23:02:58.363972Z",
     "iopub.status.busy": "2022-02-27T23:02:58.362718Z",
     "iopub.status.idle": "2022-02-27T23:02:59.247459Z",
     "shell.execute_reply": "2022-02-27T23:02:59.246942Z",
     "shell.execute_reply.started": "2022-02-27T22:45:52.842042Z"
    },
    "papermill": {
     "duration": 0.908651,
     "end_time": "2022-02-27T23:02:59.247649",
     "exception": false,
     "start_time": "2022-02-27T23:02:58.338998",
     "status": "completed"
    },
    "tags": []
   },
   "outputs": [],
   "source": [
    "import matplotlib.pyplot as plt\n",
    "import pandas as pd\n",
    "import pylab as pl\n",
    "import numpy as np\n",
    "import seaborn as sns\n",
    "%matplotlib inline"
   ]
  },
  {
   "cell_type": "code",
   "execution_count": 2,
   "id": "f6324d51",
   "metadata": {
    "execution": {
     "iopub.execute_input": "2022-02-27T23:02:59.288938Z",
     "iopub.status.busy": "2022-02-27T23:02:59.288376Z",
     "iopub.status.idle": "2022-02-27T23:03:00.488956Z",
     "shell.execute_reply": "2022-02-27T23:03:00.488413Z",
     "shell.execute_reply.started": "2022-02-27T22:45:52.849550Z"
    },
    "papermill": {
     "duration": 1.224386,
     "end_time": "2022-02-27T23:03:00.489062",
     "exception": false,
     "start_time": "2022-02-27T23:02:59.264676",
     "status": "completed"
    },
    "tags": []
   },
   "outputs": [
    {
     "name": "stdout",
     "output_type": "stream",
     "text": [
      "--2022-02-27 23:02:59--  https://cf-courses-data.s3.us.cloud-object-storage.appdomain.cloud/IBMDeveloperSkillsNetwork-ML0101EN-SkillsNetwork/labs/Module%202/data/FuelConsumptionCo2.csv\r\n",
      "Resolving cf-courses-data.s3.us.cloud-object-storage.appdomain.cloud (cf-courses-data.s3.us.cloud-object-storage.appdomain.cloud)... 169.45.118.108\r\n",
      "Connecting to cf-courses-data.s3.us.cloud-object-storage.appdomain.cloud (cf-courses-data.s3.us.cloud-object-storage.appdomain.cloud)|169.45.118.108|:443... connected.\r\n",
      "HTTP request sent, awaiting response... 200 OK\r\n",
      "Length: 72629 (71K) [text/csv]\r\n",
      "Saving to: ‘FuelConsumption.csv’\r\n",
      "\r\n",
      "FuelConsumption.csv 100%[===================>]  70.93K   315KB/s    in 0.2s    \r\n",
      "\r\n",
      "2022-02-27 23:03:00 (315 KB/s) - ‘FuelConsumption.csv’ saved [72629/72629]\r\n",
      "\r\n"
     ]
    }
   ],
   "source": [
    "!wget -O FuelConsumption.csv https://cf-courses-data.s3.us.cloud-object-storage.appdomain.cloud/IBMDeveloperSkillsNetwork-ML0101EN-SkillsNetwork/labs/Module%202/data/FuelConsumptionCo2.csv"
   ]
  },
  {
   "cell_type": "code",
   "execution_count": 3,
   "id": "ec097808",
   "metadata": {
    "execution": {
     "iopub.execute_input": "2022-02-27T23:03:00.532444Z",
     "iopub.status.busy": "2022-02-27T23:03:00.531969Z",
     "iopub.status.idle": "2022-02-27T23:03:00.560973Z",
     "shell.execute_reply": "2022-02-27T23:03:00.560511Z",
     "shell.execute_reply.started": "2022-02-27T22:45:54.608210Z"
    },
    "papermill": {
     "duration": 0.052187,
     "end_time": "2022-02-27T23:03:00.561072",
     "exception": false,
     "start_time": "2022-02-27T23:03:00.508885",
     "status": "completed"
    },
    "tags": []
   },
   "outputs": [
    {
     "data": {
      "text/html": [
       "<div>\n",
       "<style scoped>\n",
       "    .dataframe tbody tr th:only-of-type {\n",
       "        vertical-align: middle;\n",
       "    }\n",
       "\n",
       "    .dataframe tbody tr th {\n",
       "        vertical-align: top;\n",
       "    }\n",
       "\n",
       "    .dataframe thead th {\n",
       "        text-align: right;\n",
       "    }\n",
       "</style>\n",
       "<table border=\"1\" class=\"dataframe\">\n",
       "  <thead>\n",
       "    <tr style=\"text-align: right;\">\n",
       "      <th></th>\n",
       "      <th>MODELYEAR</th>\n",
       "      <th>MAKE</th>\n",
       "      <th>MODEL</th>\n",
       "      <th>VEHICLECLASS</th>\n",
       "      <th>ENGINESIZE</th>\n",
       "      <th>CYLINDERS</th>\n",
       "      <th>TRANSMISSION</th>\n",
       "      <th>FUELTYPE</th>\n",
       "      <th>FUELCONSUMPTION_CITY</th>\n",
       "      <th>FUELCONSUMPTION_HWY</th>\n",
       "      <th>FUELCONSUMPTION_COMB</th>\n",
       "      <th>FUELCONSUMPTION_COMB_MPG</th>\n",
       "      <th>CO2EMISSIONS</th>\n",
       "    </tr>\n",
       "  </thead>\n",
       "  <tbody>\n",
       "    <tr>\n",
       "      <th>0</th>\n",
       "      <td>2014</td>\n",
       "      <td>ACURA</td>\n",
       "      <td>ILX</td>\n",
       "      <td>COMPACT</td>\n",
       "      <td>2.0</td>\n",
       "      <td>4</td>\n",
       "      <td>AS5</td>\n",
       "      <td>Z</td>\n",
       "      <td>9.9</td>\n",
       "      <td>6.7</td>\n",
       "      <td>8.5</td>\n",
       "      <td>33</td>\n",
       "      <td>196</td>\n",
       "    </tr>\n",
       "    <tr>\n",
       "      <th>1</th>\n",
       "      <td>2014</td>\n",
       "      <td>ACURA</td>\n",
       "      <td>ILX</td>\n",
       "      <td>COMPACT</td>\n",
       "      <td>2.4</td>\n",
       "      <td>4</td>\n",
       "      <td>M6</td>\n",
       "      <td>Z</td>\n",
       "      <td>11.2</td>\n",
       "      <td>7.7</td>\n",
       "      <td>9.6</td>\n",
       "      <td>29</td>\n",
       "      <td>221</td>\n",
       "    </tr>\n",
       "    <tr>\n",
       "      <th>2</th>\n",
       "      <td>2014</td>\n",
       "      <td>ACURA</td>\n",
       "      <td>ILX HYBRID</td>\n",
       "      <td>COMPACT</td>\n",
       "      <td>1.5</td>\n",
       "      <td>4</td>\n",
       "      <td>AV7</td>\n",
       "      <td>Z</td>\n",
       "      <td>6.0</td>\n",
       "      <td>5.8</td>\n",
       "      <td>5.9</td>\n",
       "      <td>48</td>\n",
       "      <td>136</td>\n",
       "    </tr>\n",
       "    <tr>\n",
       "      <th>3</th>\n",
       "      <td>2014</td>\n",
       "      <td>ACURA</td>\n",
       "      <td>MDX 4WD</td>\n",
       "      <td>SUV - SMALL</td>\n",
       "      <td>3.5</td>\n",
       "      <td>6</td>\n",
       "      <td>AS6</td>\n",
       "      <td>Z</td>\n",
       "      <td>12.7</td>\n",
       "      <td>9.1</td>\n",
       "      <td>11.1</td>\n",
       "      <td>25</td>\n",
       "      <td>255</td>\n",
       "    </tr>\n",
       "    <tr>\n",
       "      <th>4</th>\n",
       "      <td>2014</td>\n",
       "      <td>ACURA</td>\n",
       "      <td>RDX AWD</td>\n",
       "      <td>SUV - SMALL</td>\n",
       "      <td>3.5</td>\n",
       "      <td>6</td>\n",
       "      <td>AS6</td>\n",
       "      <td>Z</td>\n",
       "      <td>12.1</td>\n",
       "      <td>8.7</td>\n",
       "      <td>10.6</td>\n",
       "      <td>27</td>\n",
       "      <td>244</td>\n",
       "    </tr>\n",
       "  </tbody>\n",
       "</table>\n",
       "</div>"
      ],
      "text/plain": [
       "   MODELYEAR   MAKE       MODEL VEHICLECLASS  ENGINESIZE  CYLINDERS  \\\n",
       "0       2014  ACURA         ILX      COMPACT         2.0          4   \n",
       "1       2014  ACURA         ILX      COMPACT         2.4          4   \n",
       "2       2014  ACURA  ILX HYBRID      COMPACT         1.5          4   \n",
       "3       2014  ACURA     MDX 4WD  SUV - SMALL         3.5          6   \n",
       "4       2014  ACURA     RDX AWD  SUV - SMALL         3.5          6   \n",
       "\n",
       "  TRANSMISSION FUELTYPE  FUELCONSUMPTION_CITY  FUELCONSUMPTION_HWY  \\\n",
       "0          AS5        Z                   9.9                  6.7   \n",
       "1           M6        Z                  11.2                  7.7   \n",
       "2          AV7        Z                   6.0                  5.8   \n",
       "3          AS6        Z                  12.7                  9.1   \n",
       "4          AS6        Z                  12.1                  8.7   \n",
       "\n",
       "   FUELCONSUMPTION_COMB  FUELCONSUMPTION_COMB_MPG  CO2EMISSIONS  \n",
       "0                   8.5                        33           196  \n",
       "1                   9.6                        29           221  \n",
       "2                   5.9                        48           136  \n",
       "3                  11.1                        25           255  \n",
       "4                  10.6                        27           244  "
      ]
     },
     "execution_count": 3,
     "metadata": {},
     "output_type": "execute_result"
    }
   ],
   "source": [
    "df = pd.read_csv(\"FuelConsumption.csv\")\n",
    "\n",
    "df.head()"
   ]
  },
  {
   "cell_type": "code",
   "execution_count": 4,
   "id": "84f382e3",
   "metadata": {
    "execution": {
     "iopub.execute_input": "2022-02-27T23:03:00.614207Z",
     "iopub.status.busy": "2022-02-27T23:03:00.613476Z",
     "iopub.status.idle": "2022-02-27T23:03:00.640633Z",
     "shell.execute_reply": "2022-02-27T23:03:00.640223Z",
     "shell.execute_reply.started": "2022-02-27T22:45:54.638664Z"
    },
    "papermill": {
     "duration": 0.060812,
     "end_time": "2022-02-27T23:03:00.640740",
     "exception": false,
     "start_time": "2022-02-27T23:03:00.579928",
     "status": "completed"
    },
    "tags": []
   },
   "outputs": [
    {
     "data": {
      "text/html": [
       "<div>\n",
       "<style scoped>\n",
       "    .dataframe tbody tr th:only-of-type {\n",
       "        vertical-align: middle;\n",
       "    }\n",
       "\n",
       "    .dataframe tbody tr th {\n",
       "        vertical-align: top;\n",
       "    }\n",
       "\n",
       "    .dataframe thead th {\n",
       "        text-align: right;\n",
       "    }\n",
       "</style>\n",
       "<table border=\"1\" class=\"dataframe\">\n",
       "  <thead>\n",
       "    <tr style=\"text-align: right;\">\n",
       "      <th></th>\n",
       "      <th>MODELYEAR</th>\n",
       "      <th>ENGINESIZE</th>\n",
       "      <th>CYLINDERS</th>\n",
       "      <th>FUELCONSUMPTION_CITY</th>\n",
       "      <th>FUELCONSUMPTION_HWY</th>\n",
       "      <th>FUELCONSUMPTION_COMB</th>\n",
       "      <th>FUELCONSUMPTION_COMB_MPG</th>\n",
       "      <th>CO2EMISSIONS</th>\n",
       "    </tr>\n",
       "  </thead>\n",
       "  <tbody>\n",
       "    <tr>\n",
       "      <th>count</th>\n",
       "      <td>1067.0</td>\n",
       "      <td>1067.000000</td>\n",
       "      <td>1067.000000</td>\n",
       "      <td>1067.000000</td>\n",
       "      <td>1067.000000</td>\n",
       "      <td>1067.000000</td>\n",
       "      <td>1067.000000</td>\n",
       "      <td>1067.000000</td>\n",
       "    </tr>\n",
       "    <tr>\n",
       "      <th>mean</th>\n",
       "      <td>2014.0</td>\n",
       "      <td>3.346298</td>\n",
       "      <td>5.794752</td>\n",
       "      <td>13.296532</td>\n",
       "      <td>9.474602</td>\n",
       "      <td>11.580881</td>\n",
       "      <td>26.441425</td>\n",
       "      <td>256.228679</td>\n",
       "    </tr>\n",
       "    <tr>\n",
       "      <th>std</th>\n",
       "      <td>0.0</td>\n",
       "      <td>1.415895</td>\n",
       "      <td>1.797447</td>\n",
       "      <td>4.101253</td>\n",
       "      <td>2.794510</td>\n",
       "      <td>3.485595</td>\n",
       "      <td>7.468702</td>\n",
       "      <td>63.372304</td>\n",
       "    </tr>\n",
       "    <tr>\n",
       "      <th>min</th>\n",
       "      <td>2014.0</td>\n",
       "      <td>1.000000</td>\n",
       "      <td>3.000000</td>\n",
       "      <td>4.600000</td>\n",
       "      <td>4.900000</td>\n",
       "      <td>4.700000</td>\n",
       "      <td>11.000000</td>\n",
       "      <td>108.000000</td>\n",
       "    </tr>\n",
       "    <tr>\n",
       "      <th>25%</th>\n",
       "      <td>2014.0</td>\n",
       "      <td>2.000000</td>\n",
       "      <td>4.000000</td>\n",
       "      <td>10.250000</td>\n",
       "      <td>7.500000</td>\n",
       "      <td>9.000000</td>\n",
       "      <td>21.000000</td>\n",
       "      <td>207.000000</td>\n",
       "    </tr>\n",
       "    <tr>\n",
       "      <th>50%</th>\n",
       "      <td>2014.0</td>\n",
       "      <td>3.400000</td>\n",
       "      <td>6.000000</td>\n",
       "      <td>12.600000</td>\n",
       "      <td>8.800000</td>\n",
       "      <td>10.900000</td>\n",
       "      <td>26.000000</td>\n",
       "      <td>251.000000</td>\n",
       "    </tr>\n",
       "    <tr>\n",
       "      <th>75%</th>\n",
       "      <td>2014.0</td>\n",
       "      <td>4.300000</td>\n",
       "      <td>8.000000</td>\n",
       "      <td>15.550000</td>\n",
       "      <td>10.850000</td>\n",
       "      <td>13.350000</td>\n",
       "      <td>31.000000</td>\n",
       "      <td>294.000000</td>\n",
       "    </tr>\n",
       "    <tr>\n",
       "      <th>max</th>\n",
       "      <td>2014.0</td>\n",
       "      <td>8.400000</td>\n",
       "      <td>12.000000</td>\n",
       "      <td>30.200000</td>\n",
       "      <td>20.500000</td>\n",
       "      <td>25.800000</td>\n",
       "      <td>60.000000</td>\n",
       "      <td>488.000000</td>\n",
       "    </tr>\n",
       "  </tbody>\n",
       "</table>\n",
       "</div>"
      ],
      "text/plain": [
       "       MODELYEAR   ENGINESIZE    CYLINDERS  FUELCONSUMPTION_CITY  \\\n",
       "count     1067.0  1067.000000  1067.000000           1067.000000   \n",
       "mean      2014.0     3.346298     5.794752             13.296532   \n",
       "std          0.0     1.415895     1.797447              4.101253   \n",
       "min       2014.0     1.000000     3.000000              4.600000   \n",
       "25%       2014.0     2.000000     4.000000             10.250000   \n",
       "50%       2014.0     3.400000     6.000000             12.600000   \n",
       "75%       2014.0     4.300000     8.000000             15.550000   \n",
       "max       2014.0     8.400000    12.000000             30.200000   \n",
       "\n",
       "       FUELCONSUMPTION_HWY  FUELCONSUMPTION_COMB  FUELCONSUMPTION_COMB_MPG  \\\n",
       "count          1067.000000           1067.000000               1067.000000   \n",
       "mean              9.474602             11.580881                 26.441425   \n",
       "std               2.794510              3.485595                  7.468702   \n",
       "min               4.900000              4.700000                 11.000000   \n",
       "25%               7.500000              9.000000                 21.000000   \n",
       "50%               8.800000             10.900000                 26.000000   \n",
       "75%              10.850000             13.350000                 31.000000   \n",
       "max              20.500000             25.800000                 60.000000   \n",
       "\n",
       "       CO2EMISSIONS  \n",
       "count   1067.000000  \n",
       "mean     256.228679  \n",
       "std       63.372304  \n",
       "min      108.000000  \n",
       "25%      207.000000  \n",
       "50%      251.000000  \n",
       "75%      294.000000  \n",
       "max      488.000000  "
      ]
     },
     "execution_count": 4,
     "metadata": {},
     "output_type": "execute_result"
    }
   ],
   "source": [
    "df.describe()"
   ]
  },
  {
   "cell_type": "code",
   "execution_count": 5,
   "id": "e489e314",
   "metadata": {
    "execution": {
     "iopub.execute_input": "2022-02-27T23:03:00.692080Z",
     "iopub.status.busy": "2022-02-27T23:03:00.691592Z",
     "iopub.status.idle": "2022-02-27T23:03:00.695202Z",
     "shell.execute_reply": "2022-02-27T23:03:00.694759Z",
     "shell.execute_reply.started": "2022-02-27T22:45:54.676144Z"
    },
    "papermill": {
     "duration": 0.033845,
     "end_time": "2022-02-27T23:03:00.695301",
     "exception": false,
     "start_time": "2022-02-27T23:03:00.661456",
     "status": "completed"
    },
    "tags": []
   },
   "outputs": [
    {
     "data": {
      "text/html": [
       "<div>\n",
       "<style scoped>\n",
       "    .dataframe tbody tr th:only-of-type {\n",
       "        vertical-align: middle;\n",
       "    }\n",
       "\n",
       "    .dataframe tbody tr th {\n",
       "        vertical-align: top;\n",
       "    }\n",
       "\n",
       "    .dataframe thead th {\n",
       "        text-align: right;\n",
       "    }\n",
       "</style>\n",
       "<table border=\"1\" class=\"dataframe\">\n",
       "  <thead>\n",
       "    <tr style=\"text-align: right;\">\n",
       "      <th></th>\n",
       "      <th>ENGINESIZE</th>\n",
       "      <th>CYLINDERS</th>\n",
       "      <th>FUELCONSUMPTION_COMB</th>\n",
       "      <th>CO2EMISSIONS</th>\n",
       "    </tr>\n",
       "  </thead>\n",
       "  <tbody>\n",
       "    <tr>\n",
       "      <th>0</th>\n",
       "      <td>2.0</td>\n",
       "      <td>4</td>\n",
       "      <td>8.5</td>\n",
       "      <td>196</td>\n",
       "    </tr>\n",
       "    <tr>\n",
       "      <th>1</th>\n",
       "      <td>2.4</td>\n",
       "      <td>4</td>\n",
       "      <td>9.6</td>\n",
       "      <td>221</td>\n",
       "    </tr>\n",
       "    <tr>\n",
       "      <th>2</th>\n",
       "      <td>1.5</td>\n",
       "      <td>4</td>\n",
       "      <td>5.9</td>\n",
       "      <td>136</td>\n",
       "    </tr>\n",
       "    <tr>\n",
       "      <th>3</th>\n",
       "      <td>3.5</td>\n",
       "      <td>6</td>\n",
       "      <td>11.1</td>\n",
       "      <td>255</td>\n",
       "    </tr>\n",
       "    <tr>\n",
       "      <th>4</th>\n",
       "      <td>3.5</td>\n",
       "      <td>6</td>\n",
       "      <td>10.6</td>\n",
       "      <td>244</td>\n",
       "    </tr>\n",
       "    <tr>\n",
       "      <th>5</th>\n",
       "      <td>3.5</td>\n",
       "      <td>6</td>\n",
       "      <td>10.0</td>\n",
       "      <td>230</td>\n",
       "    </tr>\n",
       "    <tr>\n",
       "      <th>6</th>\n",
       "      <td>3.5</td>\n",
       "      <td>6</td>\n",
       "      <td>10.1</td>\n",
       "      <td>232</td>\n",
       "    </tr>\n",
       "    <tr>\n",
       "      <th>7</th>\n",
       "      <td>3.7</td>\n",
       "      <td>6</td>\n",
       "      <td>11.1</td>\n",
       "      <td>255</td>\n",
       "    </tr>\n",
       "    <tr>\n",
       "      <th>8</th>\n",
       "      <td>3.7</td>\n",
       "      <td>6</td>\n",
       "      <td>11.6</td>\n",
       "      <td>267</td>\n",
       "    </tr>\n",
       "  </tbody>\n",
       "</table>\n",
       "</div>"
      ],
      "text/plain": [
       "   ENGINESIZE  CYLINDERS  FUELCONSUMPTION_COMB  CO2EMISSIONS\n",
       "0         2.0          4                   8.5           196\n",
       "1         2.4          4                   9.6           221\n",
       "2         1.5          4                   5.9           136\n",
       "3         3.5          6                  11.1           255\n",
       "4         3.5          6                  10.6           244\n",
       "5         3.5          6                  10.0           230\n",
       "6         3.5          6                  10.1           232\n",
       "7         3.7          6                  11.1           255\n",
       "8         3.7          6                  11.6           267"
      ]
     },
     "execution_count": 5,
     "metadata": {},
     "output_type": "execute_result"
    }
   ],
   "source": [
    "cdf = df[['ENGINESIZE','CYLINDERS','FUELCONSUMPTION_COMB','CO2EMISSIONS']]\n",
    "cdf.head(9)"
   ]
  },
  {
   "cell_type": "code",
   "execution_count": 6,
   "id": "0c6f623e",
   "metadata": {
    "execution": {
     "iopub.execute_input": "2022-02-27T23:03:00.738511Z",
     "iopub.status.busy": "2022-02-27T23:03:00.738068Z",
     "iopub.status.idle": "2022-02-27T23:03:00.740285Z",
     "shell.execute_reply": "2022-02-27T23:03:00.740642Z",
     "shell.execute_reply.started": "2022-02-27T22:45:54.690082Z"
    },
    "papermill": {
     "duration": 0.025804,
     "end_time": "2022-02-27T23:03:00.740757",
     "exception": false,
     "start_time": "2022-02-27T23:03:00.714953",
     "status": "completed"
    },
    "tags": []
   },
   "outputs": [],
   "source": [
    "import warnings # to remove all future warnings\n",
    "warnings.simplefilter(action=\"ignore\", category=FutureWarning)"
   ]
  },
  {
   "cell_type": "code",
   "execution_count": 7,
   "id": "835f73a4",
   "metadata": {
    "execution": {
     "iopub.execute_input": "2022-02-27T23:03:00.782679Z",
     "iopub.status.busy": "2022-02-27T23:03:00.782227Z",
     "iopub.status.idle": "2022-02-27T23:03:01.167280Z",
     "shell.execute_reply": "2022-02-27T23:03:01.166716Z",
     "shell.execute_reply.started": "2022-02-27T22:45:54.701873Z"
    },
    "papermill": {
     "duration": 0.406608,
     "end_time": "2022-02-27T23:03:01.167405",
     "exception": false,
     "start_time": "2022-02-27T23:03:00.760797",
     "status": "completed"
    },
    "tags": []
   },
   "outputs": [
    {
     "data": {
      "image/png": "[encoded data removed]",
      "text/plain": [
       "<Figure size 432x288 with 4 Axes>"
      ]
     },
     "metadata": {
      "needs_background": "light"
     },
     "output_type": "display_data"
    }
   ],
   "source": [
    "viz = cdf[['CYLINDERS','ENGINESIZE','CO2EMISSIONS','FUELCONSUMPTION_COMB']]\n",
    "viz.hist()\n",
    "plt.show()"
   ]
  },
  {
   "cell_type": "code",
   "execution_count": 8,
   "id": "714084f7",
   "metadata": {
    "execution": {
     "iopub.execute_input": "2022-02-27T23:03:01.233909Z",
     "iopub.status.busy": "2022-02-27T23:03:01.233277Z",
     "iopub.status.idle": "2022-02-27T23:03:01.395071Z",
     "shell.execute_reply": "2022-02-27T23:03:01.395618Z",
     "shell.execute_reply.started": "2022-02-27T22:45:55.160222Z"
    },
    "papermill": {
     "duration": 0.196572,
     "end_time": "2022-02-27T23:03:01.395776",
     "exception": false,
     "start_time": "2022-02-27T23:03:01.199204",
     "status": "completed"
    },
    "tags": []
   },
   "outputs": [
    {
     "data": {
      "image/png": "[encoded data removed]",
      "text/plain": [
       "<Figure size 432x288 with 1 Axes>"
      ]
     },
     "metadata": {
      "needs_background": "light"
     },
     "output_type": "display_data"
    }
   ],
   "source": [
    "plt.scatter(cdf.FUELCONSUMPTION_COMB, cdf.CO2EMISSIONS,  color='red')\n",
    "plt.xlabel(\"FUELCONSUMPTION_COMB\")\n",
    "plt.ylabel(\"Emission\")\n",
    "plt.show()"
   ]
  },
  {
   "cell_type": "code",
   "execution_count": 9,
   "id": "0cc471f5",
   "metadata": {
    "execution": {
     "iopub.execute_input": "2022-02-27T23:03:01.463908Z",
     "iopub.status.busy": "2022-02-27T23:03:01.463256Z",
     "iopub.status.idle": "2022-02-27T23:03:01.469308Z",
     "shell.execute_reply": "2022-02-27T23:03:01.469915Z",
     "shell.execute_reply.started": "2022-02-27T22:45:55.355272Z"
    },
    "papermill": {
     "duration": 0.041813,
     "end_time": "2022-02-27T23:03:01.470108",
     "exception": false,
     "start_time": "2022-02-27T23:03:01.428295",
     "status": "completed"
    },
    "tags": []
   },
   "outputs": [
    {
     "data": {
      "text/plain": [
       "MODELYEAR                   0\n",
       "MAKE                        0\n",
       "MODEL                       0\n",
       "VEHICLECLASS                0\n",
       "ENGINESIZE                  0\n",
       "CYLINDERS                   0\n",
       "TRANSMISSION                0\n",
       "FUELTYPE                    0\n",
       "FUELCONSUMPTION_CITY        0\n",
       "FUELCONSUMPTION_HWY         0\n",
       "FUELCONSUMPTION_COMB        0\n",
       "FUELCONSUMPTION_COMB_MPG    0\n",
       "CO2EMISSIONS                0\n",
       "dtype: int64"
      ]
     },
     "execution_count": 9,
     "metadata": {},
     "output_type": "execute_result"
    }
   ],
   "source": [
    "df.isna().sum()"
   ]
  },
  {
   "cell_type": "markdown",
   "id": "96d0a7e4",
   "metadata": {
    "papermill": {
     "duration": 0.032997,
     "end_time": "2022-02-27T23:03:01.537225",
     "exception": false,
     "start_time": "2022-02-27T23:03:01.504228",
     "status": "completed"
    },
    "tags": []
   },
   "source": [
    "\n",
    "# Simple Linear Regression Trail 1\n",
    "where dependant Variable is CO2EMISSIONS and Independant Variable is ENGINESIZE"
   ]
  },
  {
   "cell_type": "code",
   "execution_count": 10,
   "id": "078de7ff",
   "metadata": {
    "execution": {
     "iopub.execute_input": "2022-02-27T23:03:01.607599Z",
     "iopub.status.busy": "2022-02-27T23:03:01.604227Z",
     "iopub.status.idle": "2022-02-27T23:03:01.609482Z",
     "shell.execute_reply": "2022-02-27T23:03:01.610044Z",
     "shell.execute_reply.started": "2022-02-27T22:45:55.365580Z"
    },
    "papermill": {
     "duration": 0.04047,
     "end_time": "2022-02-27T23:03:01.610214",
     "exception": false,
     "start_time": "2022-02-27T23:03:01.569744",
     "status": "completed"
    },
    "tags": []
   },
   "outputs": [],
   "source": [
    "#splitting the data\n",
    "msk = np.random.rand(len(df)) < 0.8\n",
    "train = cdf[msk]\n",
    "test = cdf[~msk]"
   ]
  },
  {
   "cell_type": "code",
   "execution_count": 11,
   "id": "bf4714fa",
   "metadata": {
    "execution": {
     "iopub.execute_input": "2022-02-27T23:03:01.679898Z",
     "iopub.status.busy": "2022-02-27T23:03:01.679198Z",
     "iopub.status.idle": "2022-02-27T23:03:01.823164Z",
     "shell.execute_reply": "2022-02-27T23:03:01.823623Z",
     "shell.execute_reply.started": "2022-02-27T22:45:55.373359Z"
    },
    "papermill": {
     "duration": 0.180501,
     "end_time": "2022-02-27T23:03:01.823758",
     "exception": false,
     "start_time": "2022-02-27T23:03:01.643257",
     "status": "completed"
    },
    "tags": []
   },
   "outputs": [
    {
     "data": {
      "image/png": "[encoded data removed]",
      "text/plain": [
       "<Figure size 432x288 with 1 Axes>"
      ]
     },
     "metadata": {
      "needs_background": "light"
     },
     "output_type": "display_data"
    }
   ],
   "source": [
    "plt.scatter(train.ENGINESIZE, train.CO2EMISSIONS,  color='green')\n",
    "plt.xlabel(\"Engine size\")\n",
    "plt.ylabel(\"Emission\")\n",
    "plt.show()"
   ]
  },
  {
   "cell_type": "code",
   "execution_count": 12,
   "id": "7dcd0f70",
   "metadata": {
    "execution": {
     "iopub.execute_input": "2022-02-27T23:03:01.872088Z",
     "iopub.status.busy": "2022-02-27T23:03:01.871652Z",
     "iopub.status.idle": "2022-02-27T23:03:02.108788Z",
     "shell.execute_reply": "2022-02-27T23:03:02.108371Z",
     "shell.execute_reply.started": "2022-02-27T22:45:55.597954Z"
    },
    "papermill": {
     "duration": 0.262863,
     "end_time": "2022-02-27T23:03:02.108895",
     "exception": false,
     "start_time": "2022-02-27T23:03:01.846032",
     "status": "completed"
    },
    "tags": []
   },
   "outputs": [
    {
     "name": "stdout",
     "output_type": "stream",
     "text": [
      "Coefficients:  [[39.31834555]]\n",
      "Intercept:  [124.57863157]\n"
     ]
    }
   ],
   "source": [
    "from sklearn import linear_model\n",
    "regr = linear_model.LinearRegression()\n",
    "train_x = np.asanyarray(train[['ENGINESIZE']])\n",
    "train_y = np.asanyarray(train[['CO2EMISSIONS']])\n",
    "regr.fit(train_x, train_y)\n",
    "# The coefficients\n",
    "print ('Coefficients: ', regr.coef_)\n",
    "print ('Intercept: ',regr.intercept_)"
   ]
  },
  {
   "cell_type": "code",
   "execution_count": 13,
   "id": "ec294f12",
   "metadata": {
    "execution": {
     "iopub.execute_input": "2022-02-27T23:03:02.167217Z",
     "iopub.status.busy": "2022-02-27T23:03:02.166738Z",
     "iopub.status.idle": "2022-02-27T23:03:02.335661Z",
     "shell.execute_reply": "2022-02-27T23:03:02.336016Z",
     "shell.execute_reply.started": "2022-02-27T22:45:55.613937Z"
    },
    "papermill": {
     "duration": 0.203182,
     "end_time": "2022-02-27T23:03:02.336146",
     "exception": false,
     "start_time": "2022-02-27T23:03:02.132964",
     "status": "completed"
    },
    "tags": []
   },
   "outputs": [
    {
     "data": {
      "text/plain": [
       "Text(0, 0.5, 'Emission')"
      ]
     },
     "execution_count": 13,
     "metadata": {},
     "output_type": "execute_result"
    },
    {
     "data": {
      "image/png": "[encoded data removed]",
      "text/plain": [
       "<Figure size 432x288 with 1 Axes>"
      ]
     },
     "metadata": {
      "needs_background": "light"
     },
     "output_type": "display_data"
    }
   ],
   "source": [
    "#i dont know why we need to use [0]\n",
    "plt.scatter(train.ENGINESIZE, train.CO2EMISSIONS,  color='blue')\n",
    "plt.plot(train_x, regr.coef_[0][0]*train_x + regr.intercept_[0], 'black')\n",
    "plt.xlabel(\"Engine size\")\n",
    "plt.ylabel(\"Emission\")"
   ]
  },
  {
   "cell_type": "code",
   "execution_count": 14,
   "id": "6cab6f58",
   "metadata": {
    "execution": {
     "iopub.execute_input": "2022-02-27T23:03:02.393000Z",
     "iopub.status.busy": "2022-02-27T23:03:02.392457Z",
     "iopub.status.idle": "2022-02-27T23:03:02.394881Z",
     "shell.execute_reply": "2022-02-27T23:03:02.395297Z",
     "shell.execute_reply.started": "2022-02-27T22:45:55.813366Z"
    },
    "papermill": {
     "duration": 0.035111,
     "end_time": "2022-02-27T23:03:02.395433",
     "exception": false,
     "start_time": "2022-02-27T23:03:02.360322",
     "status": "completed"
    },
    "tags": []
   },
   "outputs": [
    {
     "name": "stdout",
     "output_type": "stream",
     "text": [
      "Mean absolute error: 24.81\n",
      "Residual sum of squares (MSE): 1054.29\n",
      "R2-score: 0.74\n"
     ]
    }
   ],
   "source": [
    "from sklearn.metrics import r2_score\n",
    "\n",
    "test_x = np.asanyarray(test[['ENGINESIZE']])\n",
    "test_y = np.asanyarray(test[['CO2EMISSIONS']])\n",
    "pre_y = regr.predict(test_x)\n",
    "\n",
    "print(\"Mean absolute error: %.2f\" % np.mean(np.absolute(pre_y - test_y)))\n",
    "print(\"Residual sum of squares (MSE): %.2f\" % np.mean((pre_y - test_y) ** 2))\n",
    "print(\"R2-score: %.2f\" % r2_score(test_y , pre_y) )"
   ]
  },
  {
   "cell_type": "markdown",
   "id": "24d6b43d",
   "metadata": {
    "papermill": {
     "duration": 0.024261,
     "end_time": "2022-02-27T23:03:02.446441",
     "exception": false,
     "start_time": "2022-02-27T23:03:02.422180",
     "status": "completed"
    },
    "tags": []
   },
   "source": [
    "# Simple Linear Regression Trail 2\n",
    "where dependant Variable is CO2EMISSIONS and Independant Variable is FuelConsumption"
   ]
  },
  {
   "cell_type": "code",
   "execution_count": 15,
   "id": "c8b426c5",
   "metadata": {
    "execution": {
     "iopub.execute_input": "2022-02-27T23:03:02.500246Z",
     "iopub.status.busy": "2022-02-27T23:03:02.498368Z",
     "iopub.status.idle": "2022-02-27T23:03:02.503258Z",
     "shell.execute_reply": "2022-02-27T23:03:02.503689Z",
     "shell.execute_reply.started": "2022-02-27T22:52:52.466202Z"
    },
    "papermill": {
     "duration": 0.032866,
     "end_time": "2022-02-27T23:03:02.503823",
     "exception": false,
     "start_time": "2022-02-27T23:03:02.470957",
     "status": "completed"
    },
    "tags": []
   },
   "outputs": [],
   "source": [
    "train_x_2 = train[['FUELCONSUMPTION_COMB']]\n",
    "\n",
    "test_x_2 = test[['FUELCONSUMPTION_COMB']]"
   ]
  },
  {
   "cell_type": "code",
   "execution_count": 16,
   "id": "b35ec001",
   "metadata": {
    "execution": {
     "iopub.execute_input": "2022-02-27T23:03:02.555119Z",
     "iopub.status.busy": "2022-02-27T23:03:02.554624Z",
     "iopub.status.idle": "2022-02-27T23:03:02.563664Z",
     "shell.execute_reply": "2022-02-27T23:03:02.564085Z",
     "shell.execute_reply.started": "2022-02-27T22:56:37.865936Z"
    },
    "papermill": {
     "duration": 0.035778,
     "end_time": "2022-02-27T23:03:02.564222",
     "exception": false,
     "start_time": "2022-02-27T23:03:02.528444",
     "status": "completed"
    },
    "tags": []
   },
   "outputs": [
    {
     "name": "stdout",
     "output_type": "stream",
     "text": [
      "Coefficients:  [[16.52062423]]\n",
      "Intercept:  [65.15403851]\n"
     ]
    }
   ],
   "source": [
    "regr = linear_model.LinearRegression()\n",
    "regr.fit(train_x_2, train_y)\n",
    "pre_y_2 =regr.predict(test_x_2)\n",
    "# The coefficients\n",
    "print ('Coefficients: ', regr.coef_)\n",
    "print ('Intercept: ',regr.intercept_)\n"
   ]
  },
  {
   "cell_type": "code",
   "execution_count": 17,
   "id": "536bc741",
   "metadata": {
    "execution": {
     "iopub.execute_input": "2022-02-27T23:03:02.615347Z",
     "iopub.status.busy": "2022-02-27T23:03:02.614893Z",
     "iopub.status.idle": "2022-02-27T23:03:02.621800Z",
     "shell.execute_reply": "2022-02-27T23:03:02.622453Z",
     "shell.execute_reply.started": "2022-02-27T22:56:46.300301Z"
    },
    "papermill": {
     "duration": 0.034072,
     "end_time": "2022-02-27T23:03:02.622662",
     "exception": false,
     "start_time": "2022-02-27T23:03:02.588590",
     "status": "completed"
    },
    "tags": []
   },
   "outputs": [
    {
     "name": "stdout",
     "output_type": "stream",
     "text": [
      "Mean absolute error: 24.81\n",
      "Residual sum of squares (MSE): 878.67\n",
      "R2-score: 0.78\n"
     ]
    }
   ],
   "source": [
    "print(\"Mean absolute error: %.2f\" % np.mean(np.absolute(pre_y - test_y)))\n",
    "print(\"Residual sum of squares (MSE): %.2f\" % np.mean((pre_y_2 - test_y) ** 2))\n",
    "print(\"R2-score: %.2f\" % r2_score(test_y , pre_y_2) )"
   ]
  },
  {
   "cell_type": "code",
   "execution_count": null,
   "id": "02368690",
   "metadata": {
    "papermill": {
     "duration": 0.024401,
     "end_time": "2022-02-27T23:03:02.672675",
     "exception": false,
     "start_time": "2022-02-27T23:03:02.648274",
     "status": "completed"
    },
    "tags": []
   },
   "outputs": [],
   "source": []
  }
 ],
 "metadata": {
  "kernelspec": {
   "display_name": "Python 3",
   "language": "python",
   "name": "python3"
  },
  "language_info": {
   "codemirror_mode": {
    "name": "ipython",
    "version": 3
   },
   "file_extension": ".py",
   "mimetype": "text/x-python",
   "name": "python",
   "nbconvert_exporter": "python",
   "pygments_lexer": "ipython3",
   "version": "3.7.12"
  },
  "papermill": {
   "default_parameters": {},
   "duration": 12.50578,
   "end_time": "2022-02-27T23:03:03.306276",
   "environment_variables": {},
   "exception": null,
   "input_path": "__notebook__.ipynb",
   "output_path": "__notebook__.ipynb",
   "parameters": {},
   "start_time": "2022-02-27T23:02:50.800496",
   "version": "2.3.3"
  }
 },
 "nbformat": 4,
 "nbformat_minor": 5
}
